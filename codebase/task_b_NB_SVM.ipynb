{
  "nbformat": 4,
  "nbformat_minor": 0,
  "metadata": {
    "colab": {
      "name": "task_b_NB_SVM.ipynb",
      "provenance": []
    },
    "kernelspec": {
      "name": "python3",
      "display_name": "Python 3"
    },
    "language_info": {
      "name": "python"
    }
  },
  "cells": [
    {
      "cell_type": "code",
      "execution_count": null,
      "metadata": {
        "id": "1GIdfhNjTSUH"
      },
      "outputs": [],
      "source": [
        "import pandas as pd\n",
        "df2_train = pd.read_csv(\"training_task_b_source_tweets.csv\")\n",
        "df2_test = pd.read_csv(\"test_task_b_tweets.csv\")"
      ]
    },
    {
      "cell_type": "code",
      "source": [
        "df2_train.head()"
      ],
      "metadata": {
        "id": "xhOBvLNITdO7",
        "colab": {
          "base_uri": "https://localhost:8080/",
          "height": 652
        },
        "outputId": "32e1eb23-33dd-413e-8257-d8b0f0d5614f"
      },
      "execution_count": null,
      "outputs": [
        {
          "output_type": "execute_result",
          "data": {
            "text/plain": [
              "                   id  in_reply_to_status_id_str  \\\n",
              "0  552783667052167168                        NaN   \n",
              "1  552785375161499649                        NaN   \n",
              "2  552791196247269378                        NaN   \n",
              "3  552791578893619200                        NaN   \n",
              "4  552792544132997121                        NaN   \n",
              "\n",
              "                                                text  user.verified  \\\n",
              "0  France: 10 people dead after shooting at HQ of...           True   \n",
              "1  BREAKING: 10 reportedly shot dead at Paris HQ ...           True   \n",
              "2  BREAKING: At least 10 killed in shooting at Fr...           True   \n",
              "3  Eleven dead in shooting at Paris offices of sa...           True   \n",
              "4  BREAKING Charlie Hebdo latest: 11 dead 10 woun...           True   \n",
              "\n",
              "   user.followers_count  retweet_count  favorite_count  \\\n",
              "0                129573            486              38   \n",
              "1                972167            128               5   \n",
              "2               3029912            295              78   \n",
              "3               3091451            338              28   \n",
              "4                973212            203              32   \n",
              "\n",
              "                                 entities.hashtags  \\\n",
              "0  [{'indices': [74, 87], 'text': 'CharlieHebdo'}]   \n",
              "1                                               []   \n",
              "2                                               []   \n",
              "3                                               []   \n",
              "4                                               []   \n",
              "\n",
              "                                       entities.urls label  \n",
              "0                                                 []  true  \n",
              "1  [{'url': 'http://t.co/5F1DOwzoCQ', 'indices': ...  true  \n",
              "2  [{'url': 'http://t.co/mnAeA7j7fY', 'indices': ...  true  \n",
              "3  [{'url': 'http://t.co/gOtSqbwROc', 'indices': ...  true  \n",
              "4  [{'url': 'http://t.co/kjW3uwCV0f', 'indices': ...  true  "
            ],
            "text/html": [
              "\n",
              "  <div id=\"df-a39ce0fb-d79c-4345-9800-dc807c65027a\">\n",
              "    <div class=\"colab-df-container\">\n",
              "      <div>\n",
              "<style scoped>\n",
              "    .dataframe tbody tr th:only-of-type {\n",
              "        vertical-align: middle;\n",
              "    }\n",
              "\n",
              "    .dataframe tbody tr th {\n",
              "        vertical-align: top;\n",
              "    }\n",
              "\n",
              "    .dataframe thead th {\n",
              "        text-align: right;\n",
              "    }\n",
              "</style>\n",
              "<table border=\"1\" class=\"dataframe\">\n",
              "  <thead>\n",
              "    <tr style=\"text-align: right;\">\n",
              "      <th></th>\n",
              "      <th>id</th>\n",
              "      <th>in_reply_to_status_id_str</th>\n",
              "      <th>text</th>\n",
              "      <th>user.verified</th>\n",
              "      <th>user.followers_count</th>\n",
              "      <th>retweet_count</th>\n",
              "      <th>favorite_count</th>\n",
              "      <th>entities.hashtags</th>\n",
              "      <th>entities.urls</th>\n",
              "      <th>label</th>\n",
              "    </tr>\n",
              "  </thead>\n",
              "  <tbody>\n",
              "    <tr>\n",
              "      <th>0</th>\n",
              "      <td>552783667052167168</td>\n",
              "      <td>NaN</td>\n",
              "      <td>France: 10 people dead after shooting at HQ of...</td>\n",
              "      <td>True</td>\n",
              "      <td>129573</td>\n",
              "      <td>486</td>\n",
              "      <td>38</td>\n",
              "      <td>[{'indices': [74, 87], 'text': 'CharlieHebdo'}]</td>\n",
              "      <td>[]</td>\n",
              "      <td>true</td>\n",
              "    </tr>\n",
              "    <tr>\n",
              "      <th>1</th>\n",
              "      <td>552785375161499649</td>\n",
              "      <td>NaN</td>\n",
              "      <td>BREAKING: 10 reportedly shot dead at Paris HQ ...</td>\n",
              "      <td>True</td>\n",
              "      <td>972167</td>\n",
              "      <td>128</td>\n",
              "      <td>5</td>\n",
              "      <td>[]</td>\n",
              "      <td>[{'url': 'http://t.co/5F1DOwzoCQ', 'indices': ...</td>\n",
              "      <td>true</td>\n",
              "    </tr>\n",
              "    <tr>\n",
              "      <th>2</th>\n",
              "      <td>552791196247269378</td>\n",
              "      <td>NaN</td>\n",
              "      <td>BREAKING: At least 10 killed in shooting at Fr...</td>\n",
              "      <td>True</td>\n",
              "      <td>3029912</td>\n",
              "      <td>295</td>\n",
              "      <td>78</td>\n",
              "      <td>[]</td>\n",
              "      <td>[{'url': 'http://t.co/mnAeA7j7fY', 'indices': ...</td>\n",
              "      <td>true</td>\n",
              "    </tr>\n",
              "    <tr>\n",
              "      <th>3</th>\n",
              "      <td>552791578893619200</td>\n",
              "      <td>NaN</td>\n",
              "      <td>Eleven dead in shooting at Paris offices of sa...</td>\n",
              "      <td>True</td>\n",
              "      <td>3091451</td>\n",
              "      <td>338</td>\n",
              "      <td>28</td>\n",
              "      <td>[]</td>\n",
              "      <td>[{'url': 'http://t.co/gOtSqbwROc', 'indices': ...</td>\n",
              "      <td>true</td>\n",
              "    </tr>\n",
              "    <tr>\n",
              "      <th>4</th>\n",
              "      <td>552792544132997121</td>\n",
              "      <td>NaN</td>\n",
              "      <td>BREAKING Charlie Hebdo latest: 11 dead 10 woun...</td>\n",
              "      <td>True</td>\n",
              "      <td>973212</td>\n",
              "      <td>203</td>\n",
              "      <td>32</td>\n",
              "      <td>[]</td>\n",
              "      <td>[{'url': 'http://t.co/kjW3uwCV0f', 'indices': ...</td>\n",
              "      <td>true</td>\n",
              "    </tr>\n",
              "  </tbody>\n",
              "</table>\n",
              "</div>\n",
              "      <button class=\"colab-df-convert\" onclick=\"convertToInteractive('df-a39ce0fb-d79c-4345-9800-dc807c65027a')\"\n",
              "              title=\"Convert this dataframe to an interactive table.\"\n",
              "              style=\"display:none;\">\n",
              "        \n",
              "  <svg xmlns=\"http://www.w3.org/2000/svg\" height=\"24px\"viewBox=\"0 0 24 24\"\n",
              "       width=\"24px\">\n",
              "    <path d=\"M0 0h24v24H0V0z\" fill=\"none\"/>\n",
              "    <path d=\"M18.56 5.44l.94 2.06.94-2.06 2.06-.94-2.06-.94-.94-2.06-.94 2.06-2.06.94zm-11 1L8.5 8.5l.94-2.06 2.06-.94-2.06-.94L8.5 2.5l-.94 2.06-2.06.94zm10 10l.94 2.06.94-2.06 2.06-.94-2.06-.94-.94-2.06-.94 2.06-2.06.94z\"/><path d=\"M17.41 7.96l-1.37-1.37c-.4-.4-.92-.59-1.43-.59-.52 0-1.04.2-1.43.59L10.3 9.45l-7.72 7.72c-.78.78-.78 2.05 0 2.83L4 21.41c.39.39.9.59 1.41.59.51 0 1.02-.2 1.41-.59l7.78-7.78 2.81-2.81c.8-.78.8-2.07 0-2.86zM5.41 20L4 18.59l7.72-7.72 1.47 1.35L5.41 20z\"/>\n",
              "  </svg>\n",
              "      </button>\n",
              "      \n",
              "  <style>\n",
              "    .colab-df-container {\n",
              "      display:flex;\n",
              "      flex-wrap:wrap;\n",
              "      gap: 12px;\n",
              "    }\n",
              "\n",
              "    .colab-df-convert {\n",
              "      background-color: #E8F0FE;\n",
              "      border: none;\n",
              "      border-radius: 50%;\n",
              "      cursor: pointer;\n",
              "      display: none;\n",
              "      fill: #1967D2;\n",
              "      height: 32px;\n",
              "      padding: 0 0 0 0;\n",
              "      width: 32px;\n",
              "    }\n",
              "\n",
              "    .colab-df-convert:hover {\n",
              "      background-color: #E2EBFA;\n",
              "      box-shadow: 0px 1px 2px rgba(60, 64, 67, 0.3), 0px 1px 3px 1px rgba(60, 64, 67, 0.15);\n",
              "      fill: #174EA6;\n",
              "    }\n",
              "\n",
              "    [theme=dark] .colab-df-convert {\n",
              "      background-color: #3B4455;\n",
              "      fill: #D2E3FC;\n",
              "    }\n",
              "\n",
              "    [theme=dark] .colab-df-convert:hover {\n",
              "      background-color: #434B5C;\n",
              "      box-shadow: 0px 1px 3px 1px rgba(0, 0, 0, 0.15);\n",
              "      filter: drop-shadow(0px 1px 2px rgba(0, 0, 0, 0.3));\n",
              "      fill: #FFFFFF;\n",
              "    }\n",
              "  </style>\n",
              "\n",
              "      <script>\n",
              "        const buttonEl =\n",
              "          document.querySelector('#df-a39ce0fb-d79c-4345-9800-dc807c65027a button.colab-df-convert');\n",
              "        buttonEl.style.display =\n",
              "          google.colab.kernel.accessAllowed ? 'block' : 'none';\n",
              "\n",
              "        async function convertToInteractive(key) {\n",
              "          const element = document.querySelector('#df-a39ce0fb-d79c-4345-9800-dc807c65027a');\n",
              "          const dataTable =\n",
              "            await google.colab.kernel.invokeFunction('convertToInteractive',\n",
              "                                                     [key], {});\n",
              "          if (!dataTable) return;\n",
              "\n",
              "          const docLinkHtml = 'Like what you see? Visit the ' +\n",
              "            '<a target=\"_blank\" href=https://colab.research.google.com/notebooks/data_table.ipynb>data table notebook</a>'\n",
              "            + ' to learn more about interactive tables.';\n",
              "          element.innerHTML = '';\n",
              "          dataTable['output_type'] = 'display_data';\n",
              "          await google.colab.output.renderOutput(dataTable, element);\n",
              "          const docLink = document.createElement('div');\n",
              "          docLink.innerHTML = docLinkHtml;\n",
              "          element.appendChild(docLink);\n",
              "        }\n",
              "      </script>\n",
              "    </div>\n",
              "  </div>\n",
              "  "
            ]
          },
          "metadata": {},
          "execution_count": 2
        }
      ]
    },
    {
      "cell_type": "code",
      "source": [
        "import pandas as pd\n",
        "import numpy as np\n",
        "import matplotlib.pyplot as plt\n",
        "from nltk.tokenize import word_tokenize\n",
        "from nltk.stem import WordNetLemmatizer\n",
        "from nltk.stem import PorterStemmer\n",
        "from sklearn import preprocessing"
      ],
      "metadata": {
        "id": "jIiPA_s1TflZ"
      },
      "execution_count": null,
      "outputs": []
    },
    {
      "cell_type": "code",
      "source": [
        "import nltk\n",
        "import re\n",
        "from tqdm import tqdm\n",
        "import nltk\n",
        "from nltk.corpus import stopwords\n",
        "nltk.download('stopwords')\n",
        "from nltk.corpus import stopwords\n",
        "STOPWORDS = set(stopwords.words('english'))\n",
        "REPLACE_BY_SPACE_RE = re.compile('[/(){}\\[\\]\\|@,;]')\n",
        "BAD_SYMBOLS_RE = re.compile('[^0-9a-z #+_]')\n",
        "nltk.download('punkt')\n",
        "nltk.download('wordnet')"
      ],
      "metadata": {
        "id": "hXqWStxQTlsT",
        "colab": {
          "base_uri": "https://localhost:8080/"
        },
        "outputId": "90e21cef-8dbd-484e-8df1-1a556ef7fbbb"
      },
      "execution_count": null,
      "outputs": [
        {
          "output_type": "stream",
          "name": "stdout",
          "text": [
            "[nltk_data] Downloading package stopwords to /root/nltk_data...\n",
            "[nltk_data]   Unzipping corpora/stopwords.zip.\n",
            "[nltk_data] Downloading package punkt to /root/nltk_data...\n",
            "[nltk_data]   Unzipping tokenizers/punkt.zip.\n",
            "[nltk_data] Downloading package wordnet to /root/nltk_data...\n",
            "[nltk_data]   Unzipping corpora/wordnet.zip.\n"
          ]
        },
        {
          "output_type": "execute_result",
          "data": {
            "text/plain": [
              "True"
            ]
          },
          "metadata": {},
          "execution_count": 4
        }
      ]
    },
    {
      "cell_type": "code",
      "source": [
        "df2_train.label.unique()"
      ],
      "metadata": {
        "id": "XO1cpQx5ToKm",
        "colab": {
          "base_uri": "https://localhost:8080/"
        },
        "outputId": "45525468-e654-4446-f6e3-f6b93fd18f48"
      },
      "execution_count": null,
      "outputs": [
        {
          "output_type": "execute_result",
          "data": {
            "text/plain": [
              "array(['true', 'false', 'unverified'], dtype=object)"
            ]
          },
          "metadata": {},
          "execution_count": 5
        }
      ]
    },
    {
      "cell_type": "code",
      "source": [
        "df2_train[\"text\"]=df2_train[\"text\"].str.lower()\n",
        "df2_test[\"text\"]=df2_test[\"text\"].str.lower()"
      ],
      "metadata": {
        "id": "kAZTRok9Tq53"
      },
      "execution_count": null,
      "outputs": []
    },
    {
      "cell_type": "code",
      "source": [
        "def getLemmText(text):\n",
        " tokens=word_tokenize(text)\n",
        " lemmatizer = WordNetLemmatizer()\n",
        " tokens=[lemmatizer.lemmatize(word) for word in tokens]\n",
        " return ' '.join(tokens)\n",
        "def stop_words(text):\n",
        "  text = REPLACE_BY_SPACE_RE.sub(' ', text)\n",
        "  text = BAD_SYMBOLS_RE.sub('', text)\n",
        "  text = ' '.join(word for word in text.split() if word not in STOPWORDS)\n",
        "  return text\n",
        "def getStemmText(text):\n",
        " tokens=word_tokenize(text)\n",
        " ps = PorterStemmer()\n",
        " tokens=[ps.stem(word) for word in tokens]\n",
        " return ' '.join(tokens)"
      ],
      "metadata": {
        "id": "3C6KJp3t_2Y5"
      },
      "execution_count": null,
      "outputs": []
    },
    {
      "cell_type": "code",
      "source": [
        "df2_train['text'] = list(map(stop_words,df2_train['text']))\n",
        "df2_train['text'] = list(map(getLemmText,df2_train['text']))\n",
        "df2_train['text'] = list(map(getStemmText,df2_train['text']))\n",
        "\n",
        "df2_test['text'] = list(map(stop_words,df2_test['text']))\n",
        "df2_test['text'] = list(map(getLemmText,df2_test['text']))\n",
        "df2_test['text'] = list(map(getStemmText,df2_test['text']))"
      ],
      "metadata": {
        "id": "qX0VDWCpTtG7"
      },
      "execution_count": null,
      "outputs": []
    },
    {
      "cell_type": "code",
      "source": [
        "label_encoder = preprocessing.LabelEncoder()\n",
        "df2_train['label'] = label_encoder.fit_transform(df2_train.label.values)\n",
        "df2_test['label'] = label_encoder.fit_transform(df2_test.label.values)"
      ],
      "metadata": {
        "id": "SM-njq7lTwRm"
      },
      "execution_count": null,
      "outputs": []
    },
    {
      "cell_type": "code",
      "source": [
        "print(df2_test['label'].value_counts())"
      ],
      "metadata": {
        "id": "bkGuIa1xTzsH",
        "colab": {
          "base_uri": "https://localhost:8080/"
        },
        "outputId": "e4688499-7eca-4f4a-c832-bf5b0ec2864e"
      },
      "execution_count": null,
      "outputs": [
        {
          "output_type": "stream",
          "name": "stdout",
          "text": [
            "0    30\n",
            "1    22\n",
            "2     4\n",
            "Name: label, dtype: int64\n"
          ]
        }
      ]
    },
    {
      "cell_type": "code",
      "source": [
        "df2_train.drop(df2_train.columns[[0, 1,3,4,5,6,7,8]], axis = 1, inplace = True)\n",
        "df2_test.drop(df2_test.columns[[0, 1,3,4,5,6,7,8]], axis = 1, inplace = True)"
      ],
      "metadata": {
        "id": "-QUzCIUsT3Ah"
      },
      "execution_count": null,
      "outputs": []
    },
    {
      "cell_type": "code",
      "source": [
        "df2_test.head()"
      ],
      "metadata": {
        "id": "M7IhFrjZT5W4",
        "colab": {
          "base_uri": "https://localhost:8080/",
          "height": 206
        },
        "outputId": "34ab9599-d32e-49b9-d4c9-a79917208a5b"
      },
      "execution_count": null,
      "outputs": [
        {
          "output_type": "execute_result",
          "data": {
            "text/plain": [
              "                                                text  label\n",
              "0  # break pentagon releas video mother bomb drop...      0\n",
              "1  rep sheila jackson lee shame still laugh insis...      1\n",
              "2  icymi rep sheila jackson lee dtx want hurrican...      1\n",
              "3  2003 houston u rep sheila jackson lee began ca...      1\n",
              "4  noah ark theme park destroy flood http tco yjp...      0"
            ],
            "text/html": [
              "\n",
              "  <div id=\"df-b934d63b-53d6-40ba-b00c-fb22c2da28f9\">\n",
              "    <div class=\"colab-df-container\">\n",
              "      <div>\n",
              "<style scoped>\n",
              "    .dataframe tbody tr th:only-of-type {\n",
              "        vertical-align: middle;\n",
              "    }\n",
              "\n",
              "    .dataframe tbody tr th {\n",
              "        vertical-align: top;\n",
              "    }\n",
              "\n",
              "    .dataframe thead th {\n",
              "        text-align: right;\n",
              "    }\n",
              "</style>\n",
              "<table border=\"1\" class=\"dataframe\">\n",
              "  <thead>\n",
              "    <tr style=\"text-align: right;\">\n",
              "      <th></th>\n",
              "      <th>text</th>\n",
              "      <th>label</th>\n",
              "    </tr>\n",
              "  </thead>\n",
              "  <tbody>\n",
              "    <tr>\n",
              "      <th>0</th>\n",
              "      <td># break pentagon releas video mother bomb drop...</td>\n",
              "      <td>0</td>\n",
              "    </tr>\n",
              "    <tr>\n",
              "      <th>1</th>\n",
              "      <td>rep sheila jackson lee shame still laugh insis...</td>\n",
              "      <td>1</td>\n",
              "    </tr>\n",
              "    <tr>\n",
              "      <th>2</th>\n",
              "      <td>icymi rep sheila jackson lee dtx want hurrican...</td>\n",
              "      <td>1</td>\n",
              "    </tr>\n",
              "    <tr>\n",
              "      <th>3</th>\n",
              "      <td>2003 houston u rep sheila jackson lee began ca...</td>\n",
              "      <td>1</td>\n",
              "    </tr>\n",
              "    <tr>\n",
              "      <th>4</th>\n",
              "      <td>noah ark theme park destroy flood http tco yjp...</td>\n",
              "      <td>0</td>\n",
              "    </tr>\n",
              "  </tbody>\n",
              "</table>\n",
              "</div>\n",
              "      <button class=\"colab-df-convert\" onclick=\"convertToInteractive('df-b934d63b-53d6-40ba-b00c-fb22c2da28f9')\"\n",
              "              title=\"Convert this dataframe to an interactive table.\"\n",
              "              style=\"display:none;\">\n",
              "        \n",
              "  <svg xmlns=\"http://www.w3.org/2000/svg\" height=\"24px\"viewBox=\"0 0 24 24\"\n",
              "       width=\"24px\">\n",
              "    <path d=\"M0 0h24v24H0V0z\" fill=\"none\"/>\n",
              "    <path d=\"M18.56 5.44l.94 2.06.94-2.06 2.06-.94-2.06-.94-.94-2.06-.94 2.06-2.06.94zm-11 1L8.5 8.5l.94-2.06 2.06-.94-2.06-.94L8.5 2.5l-.94 2.06-2.06.94zm10 10l.94 2.06.94-2.06 2.06-.94-2.06-.94-.94-2.06-.94 2.06-2.06.94z\"/><path d=\"M17.41 7.96l-1.37-1.37c-.4-.4-.92-.59-1.43-.59-.52 0-1.04.2-1.43.59L10.3 9.45l-7.72 7.72c-.78.78-.78 2.05 0 2.83L4 21.41c.39.39.9.59 1.41.59.51 0 1.02-.2 1.41-.59l7.78-7.78 2.81-2.81c.8-.78.8-2.07 0-2.86zM5.41 20L4 18.59l7.72-7.72 1.47 1.35L5.41 20z\"/>\n",
              "  </svg>\n",
              "      </button>\n",
              "      \n",
              "  <style>\n",
              "    .colab-df-container {\n",
              "      display:flex;\n",
              "      flex-wrap:wrap;\n",
              "      gap: 12px;\n",
              "    }\n",
              "\n",
              "    .colab-df-convert {\n",
              "      background-color: #E8F0FE;\n",
              "      border: none;\n",
              "      border-radius: 50%;\n",
              "      cursor: pointer;\n",
              "      display: none;\n",
              "      fill: #1967D2;\n",
              "      height: 32px;\n",
              "      padding: 0 0 0 0;\n",
              "      width: 32px;\n",
              "    }\n",
              "\n",
              "    .colab-df-convert:hover {\n",
              "      background-color: #E2EBFA;\n",
              "      box-shadow: 0px 1px 2px rgba(60, 64, 67, 0.3), 0px 1px 3px 1px rgba(60, 64, 67, 0.15);\n",
              "      fill: #174EA6;\n",
              "    }\n",
              "\n",
              "    [theme=dark] .colab-df-convert {\n",
              "      background-color: #3B4455;\n",
              "      fill: #D2E3FC;\n",
              "    }\n",
              "\n",
              "    [theme=dark] .colab-df-convert:hover {\n",
              "      background-color: #434B5C;\n",
              "      box-shadow: 0px 1px 3px 1px rgba(0, 0, 0, 0.15);\n",
              "      filter: drop-shadow(0px 1px 2px rgba(0, 0, 0, 0.3));\n",
              "      fill: #FFFFFF;\n",
              "    }\n",
              "  </style>\n",
              "\n",
              "      <script>\n",
              "        const buttonEl =\n",
              "          document.querySelector('#df-b934d63b-53d6-40ba-b00c-fb22c2da28f9 button.colab-df-convert');\n",
              "        buttonEl.style.display =\n",
              "          google.colab.kernel.accessAllowed ? 'block' : 'none';\n",
              "\n",
              "        async function convertToInteractive(key) {\n",
              "          const element = document.querySelector('#df-b934d63b-53d6-40ba-b00c-fb22c2da28f9');\n",
              "          const dataTable =\n",
              "            await google.colab.kernel.invokeFunction('convertToInteractive',\n",
              "                                                     [key], {});\n",
              "          if (!dataTable) return;\n",
              "\n",
              "          const docLinkHtml = 'Like what you see? Visit the ' +\n",
              "            '<a target=\"_blank\" href=https://colab.research.google.com/notebooks/data_table.ipynb>data table notebook</a>'\n",
              "            + ' to learn more about interactive tables.';\n",
              "          element.innerHTML = '';\n",
              "          dataTable['output_type'] = 'display_data';\n",
              "          await google.colab.output.renderOutput(dataTable, element);\n",
              "          const docLink = document.createElement('div');\n",
              "          docLink.innerHTML = docLinkHtml;\n",
              "          element.appendChild(docLink);\n",
              "        }\n",
              "      </script>\n",
              "    </div>\n",
              "  </div>\n",
              "  "
            ]
          },
          "metadata": {},
          "execution_count": 12
        }
      ]
    },
    {
      "cell_type": "code",
      "source": [
        "from sklearn.model_selection import train_test_split\n",
        "from sklearn.feature_extraction.text import CountVectorizer\n",
        "from sklearn.feature_extraction.text import TfidfTransformer\n",
        "from sklearn.naive_bayes import MultinomialNB"
      ],
      "metadata": {
        "id": "tT3eY5c7T8Ht"
      },
      "execution_count": null,
      "outputs": []
    },
    {
      "cell_type": "code",
      "source": [
        "stopset = set(stopwords.words('english'))\n",
        "from sklearn.feature_extraction.text import CountVectorizer,TfidfVectorizer\n",
        "vectorizer = TfidfVectorizer(use_idf=True, lowercase=True, strip_accents='ascii', stop_words=stopset)\n",
        "\n",
        "y_train = df2_train[\"label\"]\n",
        "y_test = df2_test[\"label\"]\n",
        "x_train = vectorizer.fit_transform(df2_train[\"text\"])\n",
        "x_test = vectorizer.transform(df2_test[\"text\"])"
      ],
      "metadata": {
        "id": "UEZr_j0RUbc7"
      },
      "execution_count": null,
      "outputs": []
    },
    {
      "cell_type": "code",
      "source": [
        "classifier = MultinomialNB().fit(x_train, y_train)"
      ],
      "metadata": {
        "id": "tALIl1AuUflQ"
      },
      "execution_count": null,
      "outputs": []
    },
    {
      "cell_type": "code",
      "source": [
        "y_pred = classifier.predict(x_test)"
      ],
      "metadata": {
        "id": "6vf6X2KdUkLr"
      },
      "execution_count": null,
      "outputs": []
    },
    {
      "cell_type": "code",
      "source": [
        "import sklearn.metrics as metrics \n",
        "print(metrics.confusion_matrix(y_test,y_pred),\"\\n\")\n",
        "print(metrics.accuracy_score(y_test,y_pred))\n",
        "from sklearn.metrics import f1_score, precision_score, recall_score, confusion_matrix\n",
        "print(precision_score(y_test, y_pred , average=\"macro\"))\n",
        "print(recall_score(y_test, y_pred , average=\"macro\"))\n",
        "print(f1_score(y_test, y_pred , average=\"macro\"))"
      ],
      "metadata": {
        "id": "2Wm_2AdAUn4q",
        "colab": {
          "base_uri": "https://localhost:8080/"
        },
        "outputId": "99857d33-2a65-4e75-b246-21c5191315b6"
      },
      "execution_count": null,
      "outputs": [
        {
          "output_type": "stream",
          "name": "stdout",
          "text": [
            "[[ 1 27  2]\n",
            " [ 0 21  1]\n",
            " [ 0  3  1]] \n",
            "\n",
            "0.4107142857142857\n",
            "0.5539215686274509\n",
            "0.4126262626262626\n",
            "0.2966195315952276\n"
          ]
        }
      ]
    },
    {
      "cell_type": "code",
      "source": [
        "y_prob = classifier.predict_proba(x_test)"
      ],
      "metadata": {
        "id": "9eWOwneUUr9m"
      },
      "execution_count": null,
      "outputs": []
    },
    {
      "cell_type": "code",
      "source": [
        "from sklearn.metrics import mean_squared_error\n",
        "import math\n",
        "y_true = [np.argmax(val) for val in y_test]\n",
        "conf = []\n",
        "for i in range(len(y_test)):\n",
        "  conf.append(max(y_prob[i]))\n",
        "RMSE = mean_squared_error([1]*len(conf), conf,squared = False)\n",
        "print(\"Root Mean Square Error:\\n\")\n",
        "print(RMSE)"
      ],
      "metadata": {
        "id": "pbP5vuvjUv6M",
        "colab": {
          "base_uri": "https://localhost:8080/"
        },
        "outputId": "1acff20a-a81c-4065-db63-11d354b1e779"
      },
      "execution_count": null,
      "outputs": [
        {
          "output_type": "stream",
          "name": "stdout",
          "text": [
            "Root Mean Square Error:\n",
            "\n",
            "0.4983649761574323\n"
          ]
        }
      ]
    },
    {
      "cell_type": "code",
      "source": [
        "# using support vector machines for classification\n",
        "from sklearn import svm\n",
        "from sklearn.metrics import classification_report\n",
        "\n",
        "classifier_linear = svm.SVC(kernel='linear')\n",
        "classifier_linear.fit(x_train, y_train)\n",
        "prediction_linear = classifier_linear.predict(x_test)"
      ],
      "metadata": {
        "id": "EJLCdoxFUzb1"
      },
      "execution_count": null,
      "outputs": []
    },
    {
      "cell_type": "code",
      "source": [
        "print(metrics.confusion_matrix(y_test,prediction_linear),\"\\n\")\n",
        "print(metrics.accuracy_score(y_test,prediction_linear))\n",
        "\n",
        "print(precision_score(y_test, prediction_linear , average=\"macro\"))\n",
        "print(recall_score(y_test, prediction_linear , average=\"macro\"))\n",
        "print(f1_score(y_test, prediction_linear , average=\"macro\"))"
      ],
      "metadata": {
        "id": "xne62jXOU2lB",
        "colab": {
          "base_uri": "https://localhost:8080/"
        },
        "outputId": "33800c1f-ba48-4acf-d4d9-7da4d0ffd3d0"
      },
      "execution_count": null,
      "outputs": [
        {
          "output_type": "stream",
          "name": "stdout",
          "text": [
            "[[ 3 20  7]\n",
            " [ 0 16  6]\n",
            " [ 0  3  1]] \n",
            "\n",
            "0.35714285714285715\n",
            "0.49389499389499386\n",
            "0.35909090909090907\n",
            "0.27250648562123975\n"
          ]
        }
      ]
    },
    {
      "cell_type": "code",
      "source": [
        "from sklearn.metrics import mean_squared_error\n",
        "import math\n",
        "y_true = [np.argmax(val) for val in y_test]\n",
        "conf = []\n",
        "for i in range(len(y_test)):\n",
        "  conf.append(max(y_prob[i]))\n",
        "RMSE = mean_squared_error([1]*len(conf), conf,squared = False)\n",
        "print(\"Root Mean Square Error:\\n\")\n",
        "print(RMSE)"
      ],
      "metadata": {
        "id": "-SKlDGDyU5a7",
        "colab": {
          "base_uri": "https://localhost:8080/"
        },
        "outputId": "c8f86402-01c1-4f8a-efbd-66b45c02b313"
      },
      "execution_count": null,
      "outputs": [
        {
          "output_type": "stream",
          "name": "stdout",
          "text": [
            "Root Mean Square Error:\n",
            "\n",
            "0.4983649761574323\n"
          ]
        }
      ]
    },
    {
      "cell_type": "code",
      "source": [
        ""
      ],
      "metadata": {
        "id": "k97c_mgga7wn"
      },
      "execution_count": null,
      "outputs": []
    }
  ]
}