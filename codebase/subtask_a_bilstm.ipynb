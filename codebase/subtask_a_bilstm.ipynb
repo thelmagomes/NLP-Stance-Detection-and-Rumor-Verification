{
  "cells": [
    {
      "cell_type": "code",
      "execution_count": null,
      "metadata": {
        "id": "LpU8xtSjp7na"
      },
      "outputs": [],
      "source": [
        "# importing the necessary modules\n",
        "\n",
        "import pandas as pd\n",
        "import numpy as np\n",
        "import tensorflow as tf\n",
        "from tensorflow.keras.layers import BatchNormalization\n",
        "import matplotlib.pyplot as plt\n",
        "from nltk.tokenize import word_tokenize\n",
        "from nltk.stem import WordNetLemmatizer\n",
        "from nltk.stem import PorterStemmer\n",
        "from sklearn import preprocessing\n",
        "from tqdm import tqdm\n",
        "from keras.models import Sequential\n",
        "from keras.layers.recurrent import LSTM, GRU\n",
        "from keras.layers.core import Dense, Activation, Dropout\n",
        "from keras.layers.embeddings import Embedding\n"
      ]
    },
    {
      "cell_type": "code",
      "execution_count": null,
      "metadata": {
        "id": "B6oa0FVbqS9E"
      },
      "outputs": [],
      "source": [
        "# loading the dataset\n",
        "\n",
        "df_train = pd.read_csv(\"training_task_a_tweets.csv\")\n",
        "df_test = pd.read_csv(\"test_a.csv\")"
      ]
    },
    {
      "cell_type": "code",
      "execution_count": null,
      "metadata": {
        "colab": {
          "base_uri": "https://localhost:8080/",
          "height": 478
        },
        "id": "7FlN3zbDqh9n",
        "outputId": "ac1212c9-e5ba-4bbf-f3f9-9aad089cd6e0"
      },
      "outputs": [
        {
          "output_type": "execute_result",
          "data": {
            "text/plain": [
              "                   id  in_reply_to_status_id_str  \\\n",
              "0  552785374507175936         552783667052167168   \n",
              "1  552786226546495488         552785374507175936   \n",
              "2  552789345628069888         552786226546495488   \n",
              "3  552792862610694144         552783667052167168   \n",
              "4  552943855021330432         552783667052167168   \n",
              "\n",
              "                                                text  user.verified  \\\n",
              "0  MT @euronews France: 10 dead after shooting at...          False   \n",
              "1  @j0nathandavis They who? Stupid and partial op...          False   \n",
              "2  @nanoSpawn Socialists, Antisemites, anti zioni...          False   \n",
              "3  @euronews @TradeDesk_Steve A French crime of p...          False   \n",
              "4  @euronews LOL. 5 million Muslims in France, wh...          False   \n",
              "\n",
              "   user.followers_count  retweet_count  favorite_count  \\\n",
              "0                  1828              1               2   \n",
              "1                   405              0               0   \n",
              "2                  1828              0               0   \n",
              "3                    26              0               0   \n",
              "4                    14              0               0   \n",
              "\n",
              "                                 entities.hashtags entities.urls    label  \n",
              "0  [{'indices': [70, 83], 'text': 'CharlieHebdo'}]            []  comment  \n",
              "1                                               []            []     deny  \n",
              "2                                               []            []  comment  \n",
              "3                                               []            []    query  \n",
              "4                                               []            []  comment  "
            ],
            "text/html": [
              "\n",
              "  <div id=\"df-d37bf0be-a656-48c2-ad95-f5de1db9a8b3\">\n",
              "    <div class=\"colab-df-container\">\n",
              "      <div>\n",
              "<style scoped>\n",
              "    .dataframe tbody tr th:only-of-type {\n",
              "        vertical-align: middle;\n",
              "    }\n",
              "\n",
              "    .dataframe tbody tr th {\n",
              "        vertical-align: top;\n",
              "    }\n",
              "\n",
              "    .dataframe thead th {\n",
              "        text-align: right;\n",
              "    }\n",
              "</style>\n",
              "<table border=\"1\" class=\"dataframe\">\n",
              "  <thead>\n",
              "    <tr style=\"text-align: right;\">\n",
              "      <th></th>\n",
              "      <th>id</th>\n",
              "      <th>in_reply_to_status_id_str</th>\n",
              "      <th>text</th>\n",
              "      <th>user.verified</th>\n",
              "      <th>user.followers_count</th>\n",
              "      <th>retweet_count</th>\n",
              "      <th>favorite_count</th>\n",
              "      <th>entities.hashtags</th>\n",
              "      <th>entities.urls</th>\n",
              "      <th>label</th>\n",
              "    </tr>\n",
              "  </thead>\n",
              "  <tbody>\n",
              "    <tr>\n",
              "      <th>0</th>\n",
              "      <td>552785374507175936</td>\n",
              "      <td>552783667052167168</td>\n",
              "      <td>MT @euronews France: 10 dead after shooting at...</td>\n",
              "      <td>False</td>\n",
              "      <td>1828</td>\n",
              "      <td>1</td>\n",
              "      <td>2</td>\n",
              "      <td>[{'indices': [70, 83], 'text': 'CharlieHebdo'}]</td>\n",
              "      <td>[]</td>\n",
              "      <td>comment</td>\n",
              "    </tr>\n",
              "    <tr>\n",
              "      <th>1</th>\n",
              "      <td>552786226546495488</td>\n",
              "      <td>552785374507175936</td>\n",
              "      <td>@j0nathandavis They who? Stupid and partial op...</td>\n",
              "      <td>False</td>\n",
              "      <td>405</td>\n",
              "      <td>0</td>\n",
              "      <td>0</td>\n",
              "      <td>[]</td>\n",
              "      <td>[]</td>\n",
              "      <td>deny</td>\n",
              "    </tr>\n",
              "    <tr>\n",
              "      <th>2</th>\n",
              "      <td>552789345628069888</td>\n",
              "      <td>552786226546495488</td>\n",
              "      <td>@nanoSpawn Socialists, Antisemites, anti zioni...</td>\n",
              "      <td>False</td>\n",
              "      <td>1828</td>\n",
              "      <td>0</td>\n",
              "      <td>0</td>\n",
              "      <td>[]</td>\n",
              "      <td>[]</td>\n",
              "      <td>comment</td>\n",
              "    </tr>\n",
              "    <tr>\n",
              "      <th>3</th>\n",
              "      <td>552792862610694144</td>\n",
              "      <td>552783667052167168</td>\n",
              "      <td>@euronews @TradeDesk_Steve A French crime of p...</td>\n",
              "      <td>False</td>\n",
              "      <td>26</td>\n",
              "      <td>0</td>\n",
              "      <td>0</td>\n",
              "      <td>[]</td>\n",
              "      <td>[]</td>\n",
              "      <td>query</td>\n",
              "    </tr>\n",
              "    <tr>\n",
              "      <th>4</th>\n",
              "      <td>552943855021330432</td>\n",
              "      <td>552783667052167168</td>\n",
              "      <td>@euronews LOL. 5 million Muslims in France, wh...</td>\n",
              "      <td>False</td>\n",
              "      <td>14</td>\n",
              "      <td>0</td>\n",
              "      <td>0</td>\n",
              "      <td>[]</td>\n",
              "      <td>[]</td>\n",
              "      <td>comment</td>\n",
              "    </tr>\n",
              "  </tbody>\n",
              "</table>\n",
              "</div>\n",
              "      <button class=\"colab-df-convert\" onclick=\"convertToInteractive('df-d37bf0be-a656-48c2-ad95-f5de1db9a8b3')\"\n",
              "              title=\"Convert this dataframe to an interactive table.\"\n",
              "              style=\"display:none;\">\n",
              "        \n",
              "  <svg xmlns=\"http://www.w3.org/2000/svg\" height=\"24px\"viewBox=\"0 0 24 24\"\n",
              "       width=\"24px\">\n",
              "    <path d=\"M0 0h24v24H0V0z\" fill=\"none\"/>\n",
              "    <path d=\"M18.56 5.44l.94 2.06.94-2.06 2.06-.94-2.06-.94-.94-2.06-.94 2.06-2.06.94zm-11 1L8.5 8.5l.94-2.06 2.06-.94-2.06-.94L8.5 2.5l-.94 2.06-2.06.94zm10 10l.94 2.06.94-2.06 2.06-.94-2.06-.94-.94-2.06-.94 2.06-2.06.94z\"/><path d=\"M17.41 7.96l-1.37-1.37c-.4-.4-.92-.59-1.43-.59-.52 0-1.04.2-1.43.59L10.3 9.45l-7.72 7.72c-.78.78-.78 2.05 0 2.83L4 21.41c.39.39.9.59 1.41.59.51 0 1.02-.2 1.41-.59l7.78-7.78 2.81-2.81c.8-.78.8-2.07 0-2.86zM5.41 20L4 18.59l7.72-7.72 1.47 1.35L5.41 20z\"/>\n",
              "  </svg>\n",
              "      </button>\n",
              "      \n",
              "  <style>\n",
              "    .colab-df-container {\n",
              "      display:flex;\n",
              "      flex-wrap:wrap;\n",
              "      gap: 12px;\n",
              "    }\n",
              "\n",
              "    .colab-df-convert {\n",
              "      background-color: #E8F0FE;\n",
              "      border: none;\n",
              "      border-radius: 50%;\n",
              "      cursor: pointer;\n",
              "      display: none;\n",
              "      fill: #1967D2;\n",
              "      height: 32px;\n",
              "      padding: 0 0 0 0;\n",
              "      width: 32px;\n",
              "    }\n",
              "\n",
              "    .colab-df-convert:hover {\n",
              "      background-color: #E2EBFA;\n",
              "      box-shadow: 0px 1px 2px rgba(60, 64, 67, 0.3), 0px 1px 3px 1px rgba(60, 64, 67, 0.15);\n",
              "      fill: #174EA6;\n",
              "    }\n",
              "\n",
              "    [theme=dark] .colab-df-convert {\n",
              "      background-color: #3B4455;\n",
              "      fill: #D2E3FC;\n",
              "    }\n",
              "\n",
              "    [theme=dark] .colab-df-convert:hover {\n",
              "      background-color: #434B5C;\n",
              "      box-shadow: 0px 1px 3px 1px rgba(0, 0, 0, 0.15);\n",
              "      filter: drop-shadow(0px 1px 2px rgba(0, 0, 0, 0.3));\n",
              "      fill: #FFFFFF;\n",
              "    }\n",
              "  </style>\n",
              "\n",
              "      <script>\n",
              "        const buttonEl =\n",
              "          document.querySelector('#df-d37bf0be-a656-48c2-ad95-f5de1db9a8b3 button.colab-df-convert');\n",
              "        buttonEl.style.display =\n",
              "          google.colab.kernel.accessAllowed ? 'block' : 'none';\n",
              "\n",
              "        async function convertToInteractive(key) {\n",
              "          const element = document.querySelector('#df-d37bf0be-a656-48c2-ad95-f5de1db9a8b3');\n",
              "          const dataTable =\n",
              "            await google.colab.kernel.invokeFunction('convertToInteractive',\n",
              "                                                     [key], {});\n",
              "          if (!dataTable) return;\n",
              "\n",
              "          const docLinkHtml = 'Like what you see? Visit the ' +\n",
              "            '<a target=\"_blank\" href=https://colab.research.google.com/notebooks/data_table.ipynb>data table notebook</a>'\n",
              "            + ' to learn more about interactive tables.';\n",
              "          element.innerHTML = '';\n",
              "          dataTable['output_type'] = 'display_data';\n",
              "          await google.colab.output.renderOutput(dataTable, element);\n",
              "          const docLink = document.createElement('div');\n",
              "          docLink.innerHTML = docLinkHtml;\n",
              "          element.appendChild(docLink);\n",
              "        }\n",
              "      </script>\n",
              "    </div>\n",
              "  </div>\n",
              "  "
            ]
          },
          "metadata": {},
          "execution_count": 3
        }
      ],
      "source": [
        "df_train.head()"
      ]
    },
    {
      "cell_type": "code",
      "execution_count": null,
      "metadata": {
        "colab": {
          "base_uri": "https://localhost:8080/"
        },
        "id": "GJzSewppqm7q",
        "outputId": "1092177d-9256-4f62-d1be-a9dcf06552bd"
      },
      "outputs": [
        {
          "output_type": "execute_result",
          "data": {
            "text/plain": [
              "array(['comment', 'deny', 'query', 'support'], dtype=object)"
            ]
          },
          "metadata": {},
          "execution_count": 4
        }
      ],
      "source": [
        "df_train.label.unique()"
      ]
    },
    {
      "cell_type": "code",
      "execution_count": null,
      "metadata": {
        "id": "TwBHfVKvt6d9"
      },
      "outputs": [],
      "source": [
        "#dropping the unwanted columns and converting the text into lower\n",
        "\n",
        "df_train.drop(df_train.columns[[0, 1,3,4,5,6,7,8]], axis = 1, inplace = True)\n",
        "df_test.drop(df_test.columns[[0, 1,3,4,5,6,7,8]], axis = 1, inplace = True)\n",
        "df_train[\"text\"]=df_train[\"text\"].str.lower()\n",
        "df_test[\"text\"]=df_test[\"text\"].str.lower()"
      ]
    },
    {
      "cell_type": "code",
      "execution_count": null,
      "metadata": {
        "colab": {
          "base_uri": "https://localhost:8080/",
          "height": 206
        },
        "id": "VuLUnT88kKaL",
        "outputId": "fe516990-1595-4fcc-f188-16441859e5ec"
      },
      "outputs": [
        {
          "output_type": "execute_result",
          "data": {
            "text/plain": [
              "                                                text    label\n",
              "0  mt @euronews france: 10 dead after shooting at...  comment\n",
              "1  @j0nathandavis they who? stupid and partial op...     deny\n",
              "2  @nanospawn socialists, antisemites, anti zioni...  comment\n",
              "3  @euronews @tradedesk_steve a french crime of p...    query\n",
              "4  @euronews lol. 5 million muslims in france, wh...  comment"
            ],
            "text/html": [
              "\n",
              "  <div id=\"df-b4a1949f-63ad-4d43-be57-7627d7e3e73d\">\n",
              "    <div class=\"colab-df-container\">\n",
              "      <div>\n",
              "<style scoped>\n",
              "    .dataframe tbody tr th:only-of-type {\n",
              "        vertical-align: middle;\n",
              "    }\n",
              "\n",
              "    .dataframe tbody tr th {\n",
              "        vertical-align: top;\n",
              "    }\n",
              "\n",
              "    .dataframe thead th {\n",
              "        text-align: right;\n",
              "    }\n",
              "</style>\n",
              "<table border=\"1\" class=\"dataframe\">\n",
              "  <thead>\n",
              "    <tr style=\"text-align: right;\">\n",
              "      <th></th>\n",
              "      <th>text</th>\n",
              "      <th>label</th>\n",
              "    </tr>\n",
              "  </thead>\n",
              "  <tbody>\n",
              "    <tr>\n",
              "      <th>0</th>\n",
              "      <td>mt @euronews france: 10 dead after shooting at...</td>\n",
              "      <td>comment</td>\n",
              "    </tr>\n",
              "    <tr>\n",
              "      <th>1</th>\n",
              "      <td>@j0nathandavis they who? stupid and partial op...</td>\n",
              "      <td>deny</td>\n",
              "    </tr>\n",
              "    <tr>\n",
              "      <th>2</th>\n",
              "      <td>@nanospawn socialists, antisemites, anti zioni...</td>\n",
              "      <td>comment</td>\n",
              "    </tr>\n",
              "    <tr>\n",
              "      <th>3</th>\n",
              "      <td>@euronews @tradedesk_steve a french crime of p...</td>\n",
              "      <td>query</td>\n",
              "    </tr>\n",
              "    <tr>\n",
              "      <th>4</th>\n",
              "      <td>@euronews lol. 5 million muslims in france, wh...</td>\n",
              "      <td>comment</td>\n",
              "    </tr>\n",
              "  </tbody>\n",
              "</table>\n",
              "</div>\n",
              "      <button class=\"colab-df-convert\" onclick=\"convertToInteractive('df-b4a1949f-63ad-4d43-be57-7627d7e3e73d')\"\n",
              "              title=\"Convert this dataframe to an interactive table.\"\n",
              "              style=\"display:none;\">\n",
              "        \n",
              "  <svg xmlns=\"http://www.w3.org/2000/svg\" height=\"24px\"viewBox=\"0 0 24 24\"\n",
              "       width=\"24px\">\n",
              "    <path d=\"M0 0h24v24H0V0z\" fill=\"none\"/>\n",
              "    <path d=\"M18.56 5.44l.94 2.06.94-2.06 2.06-.94-2.06-.94-.94-2.06-.94 2.06-2.06.94zm-11 1L8.5 8.5l.94-2.06 2.06-.94-2.06-.94L8.5 2.5l-.94 2.06-2.06.94zm10 10l.94 2.06.94-2.06 2.06-.94-2.06-.94-.94-2.06-.94 2.06-2.06.94z\"/><path d=\"M17.41 7.96l-1.37-1.37c-.4-.4-.92-.59-1.43-.59-.52 0-1.04.2-1.43.59L10.3 9.45l-7.72 7.72c-.78.78-.78 2.05 0 2.83L4 21.41c.39.39.9.59 1.41.59.51 0 1.02-.2 1.41-.59l7.78-7.78 2.81-2.81c.8-.78.8-2.07 0-2.86zM5.41 20L4 18.59l7.72-7.72 1.47 1.35L5.41 20z\"/>\n",
              "  </svg>\n",
              "      </button>\n",
              "      \n",
              "  <style>\n",
              "    .colab-df-container {\n",
              "      display:flex;\n",
              "      flex-wrap:wrap;\n",
              "      gap: 12px;\n",
              "    }\n",
              "\n",
              "    .colab-df-convert {\n",
              "      background-color: #E8F0FE;\n",
              "      border: none;\n",
              "      border-radius: 50%;\n",
              "      cursor: pointer;\n",
              "      display: none;\n",
              "      fill: #1967D2;\n",
              "      height: 32px;\n",
              "      padding: 0 0 0 0;\n",
              "      width: 32px;\n",
              "    }\n",
              "\n",
              "    .colab-df-convert:hover {\n",
              "      background-color: #E2EBFA;\n",
              "      box-shadow: 0px 1px 2px rgba(60, 64, 67, 0.3), 0px 1px 3px 1px rgba(60, 64, 67, 0.15);\n",
              "      fill: #174EA6;\n",
              "    }\n",
              "\n",
              "    [theme=dark] .colab-df-convert {\n",
              "      background-color: #3B4455;\n",
              "      fill: #D2E3FC;\n",
              "    }\n",
              "\n",
              "    [theme=dark] .colab-df-convert:hover {\n",
              "      background-color: #434B5C;\n",
              "      box-shadow: 0px 1px 3px 1px rgba(0, 0, 0, 0.15);\n",
              "      filter: drop-shadow(0px 1px 2px rgba(0, 0, 0, 0.3));\n",
              "      fill: #FFFFFF;\n",
              "    }\n",
              "  </style>\n",
              "\n",
              "      <script>\n",
              "        const buttonEl =\n",
              "          document.querySelector('#df-b4a1949f-63ad-4d43-be57-7627d7e3e73d button.colab-df-convert');\n",
              "        buttonEl.style.display =\n",
              "          google.colab.kernel.accessAllowed ? 'block' : 'none';\n",
              "\n",
              "        async function convertToInteractive(key) {\n",
              "          const element = document.querySelector('#df-b4a1949f-63ad-4d43-be57-7627d7e3e73d');\n",
              "          const dataTable =\n",
              "            await google.colab.kernel.invokeFunction('convertToInteractive',\n",
              "                                                     [key], {});\n",
              "          if (!dataTable) return;\n",
              "\n",
              "          const docLinkHtml = 'Like what you see? Visit the ' +\n",
              "            '<a target=\"_blank\" href=https://colab.research.google.com/notebooks/data_table.ipynb>data table notebook</a>'\n",
              "            + ' to learn more about interactive tables.';\n",
              "          element.innerHTML = '';\n",
              "          dataTable['output_type'] = 'display_data';\n",
              "          await google.colab.output.renderOutput(dataTable, element);\n",
              "          const docLink = document.createElement('div');\n",
              "          docLink.innerHTML = docLinkHtml;\n",
              "          element.appendChild(docLink);\n",
              "        }\n",
              "      </script>\n",
              "    </div>\n",
              "  </div>\n",
              "  "
            ]
          },
          "metadata": {},
          "execution_count": 6
        }
      ],
      "source": [
        "df_train.head()"
      ]
    },
    {
      "cell_type": "code",
      "source": [
        "import nltk\n",
        "nltk.download('stopwords')\n",
        "from keras.utils import np_utils\n",
        "from keras.layers import GlobalMaxPooling1D, Conv1D, MaxPooling1D,Flatten, Bidirectional, SpatialDropout1D\n",
        "from sklearn.model_selection import train_test_split\n",
        "from keras.preprocessing import sequence\n",
        "from keras.preprocessing.text import Tokenizer\n",
        "from keras.callbacks import EarlyStopping\n",
        "import matplotlib.pyplot as plt\n",
        "from nltk.corpus import stopwords\n",
        "STOPWORDS = set(stopwords.words('english'))"
      ],
      "metadata": {
        "id": "tXFSoAOFqy5C",
        "colab": {
          "base_uri": "https://localhost:8080/"
        },
        "outputId": "443654a8-f116-488d-bdf4-8d5da98b062b"
      },
      "execution_count": null,
      "outputs": [
        {
          "output_type": "stream",
          "name": "stdout",
          "text": [
            "[nltk_data] Downloading package stopwords to /root/nltk_data...\n",
            "[nltk_data]   Unzipping corpora/stopwords.zip.\n"
          ]
        }
      ]
    },
    {
      "cell_type": "code",
      "source": [
        "import nltk\n",
        "import re\n",
        "from tqdm import tqdm\n",
        "import nltk\n",
        "from nltk.corpus import stopwords\n",
        "nltk.download('stopwords')\n",
        "from nltk.corpus import stopwords\n",
        "STOPWORDS = set(stopwords.words('english'))\n",
        "REPLACE_BY_SPACE_RE = re.compile('[/(){}\\[\\]\\|@,;]')\n",
        "BAD_SYMBOLS_RE = re.compile('[^0-9a-z #+_]')\n",
        "nltk.download('punkt')\n",
        "nltk.download('wordnet')"
      ],
      "metadata": {
        "colab": {
          "base_uri": "https://localhost:8080/"
        },
        "id": "m5fSZj5_Hboc",
        "outputId": "a725eaaa-2eef-44ac-89bb-b425b52b6226"
      },
      "execution_count": null,
      "outputs": [
        {
          "output_type": "stream",
          "name": "stdout",
          "text": [
            "[nltk_data] Downloading package stopwords to /root/nltk_data...\n",
            "[nltk_data]   Package stopwords is already up-to-date!\n",
            "[nltk_data] Downloading package punkt to /root/nltk_data...\n",
            "[nltk_data]   Unzipping tokenizers/punkt.zip.\n",
            "[nltk_data] Downloading package wordnet to /root/nltk_data...\n",
            "[nltk_data]   Unzipping corpora/wordnet.zip.\n"
          ]
        },
        {
          "output_type": "execute_result",
          "data": {
            "text/plain": [
              "True"
            ]
          },
          "metadata": {},
          "execution_count": 8
        }
      ]
    },
    {
      "cell_type": "code",
      "execution_count": null,
      "metadata": {
        "id": "dyArn2ykkoqr"
      },
      "outputs": [],
      "source": [
        "#Applying the necessary preprocessing techniques\n",
        "\n",
        "def getLemmText(text):\n",
        " tokens=word_tokenize(text)\n",
        " lemmatizer = WordNetLemmatizer()\n",
        " tokens=[lemmatizer.lemmatize(word) for word in tokens]\n",
        " return ' '.join(tokens)\n",
        "def stop_words(text):\n",
        "  text = REPLACE_BY_SPACE_RE.sub(' ', text)\n",
        "  text = BAD_SYMBOLS_RE.sub('', text)\n",
        "  text = ' '.join(word for word in text.split() if word not in STOPWORDS)\n",
        "  return text\n",
        "def getStemmText(text):\n",
        " tokens=word_tokenize(text)\n",
        " ps = PorterStemmer()\n",
        " tokens=[ps.stem(word) for word in tokens]\n",
        " return ' '.join(tokens)"
      ]
    },
    {
      "cell_type": "code",
      "source": [
        "df_train['text'] = list(map(stop_words,df_train['text']))\n",
        "df_train['text'] = list(map(getLemmText,df_train['text']))\n",
        "df_train['text'] = list(map(getStemmText,df_train['text']))\n",
        "\n",
        "\n",
        "df_test['text'] = list(map(stop_words,df_test['text']))\n",
        "df_test['text'] = list(map(getLemmText,df_test['text']))\n",
        "df_test['text'] = list(map(getStemmText,df_test['text']))"
      ],
      "metadata": {
        "id": "HZIPfV8fHL0z"
      },
      "execution_count": null,
      "outputs": []
    },
    {
      "cell_type": "code",
      "source": [
        "# converting the categorical text values into label encoding\n",
        "\n",
        "label_encoder = preprocessing.LabelEncoder()\n",
        "df_train['label'] = label_encoder.fit_transform(df_train.label.values)\n",
        "df_test['label'] = label_encoder.fit_transform(df_test.label.values)"
      ],
      "metadata": {
        "id": "NRTP4LsIH7Oa"
      },
      "execution_count": null,
      "outputs": []
    },
    {
      "cell_type": "code",
      "source": [
        "ytrain = df_train[\"label\"]\n",
        "ytest = df_test[\"label\"]\n",
        "xtrain = df_train[\"text\"]\n",
        "xtest = df_test[\"text\"]"
      ],
      "metadata": {
        "id": "Rzj4qzHsP69-"
      },
      "execution_count": null,
      "outputs": []
    },
    {
      "cell_type": "code",
      "execution_count": null,
      "metadata": {
        "colab": {
          "base_uri": "https://localhost:8080/"
        },
        "id": "0jR-LGNml65y",
        "outputId": "7e4468e0-f326-4377-bd0c-2f5be0db2f2e"
      },
      "outputs": [
        {
          "output_type": "stream",
          "name": "stderr",
          "text": [
            "2449it [00:00, 28700.66it/s]\n"
          ]
        }
      ],
      "source": [
        "# Loading the pre-trained GLOVE embeddings\n",
        "\n",
        "embeddings_index = {}\n",
        "f = open('glove.6B.100d.txt',encoding='utf8')\n",
        "for line in tqdm(f):\n",
        " values = line.split()\n",
        " word = values[0]\n",
        " coefs = np.asarray(values[1:], dtype='float32')\n",
        " embeddings_index[word] = coefs\n",
        "f.close()\n"
      ]
    },
    {
      "cell_type": "code",
      "execution_count": null,
      "metadata": {
        "id": "CLtBIOzsoXb6"
      },
      "outputs": [],
      "source": [
        "# defining the necessary parameters for the glove text vector\n",
        "\n",
        "VOCABULARY_SIZE, MAX_LENGTH = 2000,60"
      ]
    },
    {
      "cell_type": "code",
      "execution_count": null,
      "metadata": {
        "id": "IG61fqSsoce3"
      },
      "outputs": [],
      "source": [
        "tokenizer = Tokenizer(num_words=VOCABULARY_SIZE)\n",
        "tokenizer.fit_on_texts(list(xtrain) + list(xtest))"
      ]
    },
    {
      "cell_type": "code",
      "execution_count": null,
      "metadata": {
        "id": "k94ad7E9oiZI"
      },
      "outputs": [],
      "source": [
        "\n",
        "xtrain_sequence = tokenizer.texts_to_sequences(xtrain)\n",
        "xtest_sequence = tokenizer.texts_to_sequences(xtest)"
      ]
    },
    {
      "cell_type": "code",
      "execution_count": null,
      "metadata": {
        "id": "TsIqKLPhosUM"
      },
      "outputs": [],
      "source": [
        "# padding the input text\n",
        "\n",
        "xtrain_padding = sequence.pad_sequences(xtrain_sequence, maxlen=MAX_LENGTH)\n",
        "xtest_padding = sequence.pad_sequences(xtest_sequence, maxlen=MAX_LENGTH)\n",
        "word_index = tokenizer.word_index"
      ]
    },
    {
      "cell_type": "code",
      "execution_count": null,
      "metadata": {
        "colab": {
          "base_uri": "https://localhost:8080/"
        },
        "id": "xyKv1S5mo99V",
        "outputId": "f0e5fdf2-20fd-49f2-eb9d-8cfa938c89bc"
      },
      "outputs": [
        {
          "output_type": "stream",
          "name": "stderr",
          "text": [
            "100%|██████████| 8519/8519 [00:00<00:00, 772668.36it/s]\n"
          ]
        }
      ],
      "source": [
        "# converting the word embedding into embedding matrix\n",
        "\n",
        "embedding_matrix = np.zeros((len(word_index) + 1, 100))\n",
        "for word, i in tqdm(word_index.items()):\n",
        " embedding_vector = embeddings_index.get(word)\n",
        " if embedding_vector is not None:\n",
        "  embedding_matrix[i] = embedding_vector"
      ]
    },
    {
      "cell_type": "code",
      "execution_count": null,
      "metadata": {
        "id": "WhYH9XAJpDTP"
      },
      "outputs": [],
      "source": [
        "# Defining the model with BiLSTM and feed forward neural networks with dense layers having relu activation and output with softmax activation\n",
        "\n",
        "model = Sequential()\n",
        "model.add(Embedding(len(word_index) + 1,100,weights=[embedding_matrix],input_length=MAX_LENGTH,trainable=False))\n",
        "model.add(SpatialDropout1D(0.3))\n",
        "model.add(Bidirectional(LSTM(100, dropout=0.3, recurrent_dropout=0.3)))\n",
        "model.add(Dense(1024, activation='relu'))\n",
        "model.add(Dropout(0.8))\n",
        "model.add(Dense(1024, activation='relu'))\n",
        "model.add(Dropout(0.8))\n",
        "model.add(Dense(4))\n",
        "model.add(Activation('softmax'))\n",
        "model.compile(loss='categorical_crossentropy', optimizer='adam', metrics=['accuracy'])\n"
      ]
    },
    {
      "cell_type": "code",
      "source": [
        "#print(model.summary())\n",
        "from tensorflow.keras.utils import plot_model\n",
        "plot_model(model, to_file='model_plot1.png', show_shapes=True, show_layer_names=True)"
      ],
      "metadata": {
        "colab": {
          "base_uri": "https://localhost:8080/",
          "height": 1000
        },
        "id": "zNS_Q9L4R_fR",
        "outputId": "4d72b846-7180-4317-ea76-86722ab3c7ae"
      },
      "execution_count": null,
      "outputs": [
        {
          "output_type": "execute_result",
          "data": {
            "text/plain": [
              "<IPython.core.display.Image object>"
            ],
            "image/png": "[encoded data removed]"
          },
          "metadata": {},
          "execution_count": 22
        }
      ]
    },
    {
      "cell_type": "code",
      "execution_count": null,
      "metadata": {
        "id": "gWMLLNO4pIq9"
      },
      "outputs": [],
      "source": [
        "# converting the target label into categorical\n",
        "\n",
        "ytrain_encode = np_utils.to_categorical(ytrain)\n",
        "ytest_encode = np_utils.to_categorical(ytest)"
      ]
    },
    {
      "cell_type": "code",
      "execution_count": null,
      "metadata": {
        "colab": {
          "base_uri": "https://localhost:8080/"
        },
        "id": "ff9fKfsBpMJp",
        "outputId": "767d38af-699f-402a-f8a6-2c9194d15a25"
      },
      "outputs": [
        {
          "output_type": "stream",
          "name": "stdout",
          "text": [
            "Epoch 1/50\n",
            "9/9 [==============================] - 14s 679ms/step - loss: 1.1258 - accuracy: 0.6360 - val_loss: 0.8822 - val_accuracy: 0.7634\n",
            "Epoch 2/50\n",
            "9/9 [==============================] - 6s 706ms/step - loss: 1.0052 - accuracy: 0.6859 - val_loss: 0.8560 - val_accuracy: 0.7634\n",
            "Epoch 3/50\n",
            "9/9 [==============================] - 6s 732ms/step - loss: 0.9772 - accuracy: 0.6859 - val_loss: 0.8902 - val_accuracy: 0.7634\n",
            "Epoch 4/50\n",
            "9/9 [==============================] - 6s 622ms/step - loss: 0.9692 - accuracy: 0.6859 - val_loss: 0.8239 - val_accuracy: 0.7634\n",
            "Epoch 5/50\n",
            "9/9 [==============================] - 6s 617ms/step - loss: 0.9564 - accuracy: 0.6859 - val_loss: 0.8657 - val_accuracy: 0.7634\n",
            "Epoch 6/50\n",
            "9/9 [==============================] - 6s 629ms/step - loss: 0.9563 - accuracy: 0.6859 - val_loss: 0.8182 - val_accuracy: 0.7634\n",
            "Epoch 7/50\n",
            "9/9 [==============================] - 6s 635ms/step - loss: 0.9570 - accuracy: 0.6859 - val_loss: 0.8525 - val_accuracy: 0.7634\n",
            "Epoch 8/50\n",
            "9/9 [==============================] - 6s 624ms/step - loss: 0.9459 - accuracy: 0.6859 - val_loss: 0.8224 - val_accuracy: 0.7634\n",
            "Epoch 9/50\n",
            "9/9 [==============================] - 5s 608ms/step - loss: 0.9425 - accuracy: 0.6859 - val_loss: 0.8228 - val_accuracy: 0.7634\n",
            "Epoch 10/50\n",
            "9/9 [==============================] - 6s 631ms/step - loss: 0.9361 - accuracy: 0.6862 - val_loss: 0.8205 - val_accuracy: 0.7634\n",
            "Epoch 11/50\n",
            "9/9 [==============================] - 6s 628ms/step - loss: 0.9360 - accuracy: 0.6864 - val_loss: 0.8334 - val_accuracy: 0.7634\n",
            "Epoch 12/50\n",
            "9/9 [==============================] - 6s 633ms/step - loss: 0.9307 - accuracy: 0.6871 - val_loss: 0.7982 - val_accuracy: 0.7634\n",
            "Epoch 13/50\n",
            "9/9 [==============================] - 6s 634ms/step - loss: 0.9278 - accuracy: 0.6897 - val_loss: 0.8532 - val_accuracy: 0.7604\n",
            "Epoch 14/50\n",
            "9/9 [==============================] - 6s 623ms/step - loss: 0.9302 - accuracy: 0.6930 - val_loss: 0.8133 - val_accuracy: 0.7634\n",
            "Epoch 15/50\n",
            "9/9 [==============================] - 6s 630ms/step - loss: 0.9267 - accuracy: 0.6897 - val_loss: 0.8208 - val_accuracy: 0.7634\n",
            "Epoch 16/50\n",
            "9/9 [==============================] - 6s 623ms/step - loss: 0.9292 - accuracy: 0.6907 - val_loss: 0.8201 - val_accuracy: 0.7634\n",
            "Epoch 17/50\n",
            "9/9 [==============================] - 6s 628ms/step - loss: 0.9197 - accuracy: 0.6876 - val_loss: 0.8165 - val_accuracy: 0.7634\n",
            "Epoch 18/50\n",
            "9/9 [==============================] - 6s 617ms/step - loss: 0.9221 - accuracy: 0.6902 - val_loss: 0.8340 - val_accuracy: 0.7634\n",
            "Epoch 19/50\n",
            "9/9 [==============================] - 6s 633ms/step - loss: 0.9132 - accuracy: 0.6961 - val_loss: 0.8159 - val_accuracy: 0.7634\n",
            "Epoch 20/50\n",
            "9/9 [==============================] - 6s 619ms/step - loss: 0.9201 - accuracy: 0.6928 - val_loss: 0.8210 - val_accuracy: 0.7634\n",
            "Epoch 21/50\n",
            "9/9 [==============================] - 6s 621ms/step - loss: 0.9184 - accuracy: 0.6907 - val_loss: 0.8260 - val_accuracy: 0.7634\n",
            "Epoch 22/50\n",
            "9/9 [==============================] - 6s 628ms/step - loss: 0.9155 - accuracy: 0.6928 - val_loss: 0.8326 - val_accuracy: 0.7634\n",
            "Epoch 23/50\n",
            "9/9 [==============================] - 6s 630ms/step - loss: 0.9124 - accuracy: 0.6930 - val_loss: 0.8152 - val_accuracy: 0.7634\n",
            "Epoch 24/50\n",
            "9/9 [==============================] - 5s 617ms/step - loss: 0.9147 - accuracy: 0.6945 - val_loss: 0.8376 - val_accuracy: 0.7624\n",
            "Epoch 25/50\n",
            "9/9 [==============================] - 6s 641ms/step - loss: 0.9061 - accuracy: 0.6930 - val_loss: 0.8279 - val_accuracy: 0.7634\n",
            "Epoch 26/50\n",
            "9/9 [==============================] - 6s 625ms/step - loss: 0.9081 - accuracy: 0.6952 - val_loss: 0.8263 - val_accuracy: 0.7634\n",
            "Epoch 27/50\n",
            "9/9 [==============================] - 6s 611ms/step - loss: 0.9035 - accuracy: 0.6954 - val_loss: 0.8239 - val_accuracy: 0.7624\n",
            "Epoch 28/50\n",
            "9/9 [==============================] - 6s 623ms/step - loss: 0.9056 - accuracy: 0.6945 - val_loss: 0.8249 - val_accuracy: 0.7634\n",
            "Epoch 29/50\n",
            "9/9 [==============================] - 6s 641ms/step - loss: 0.9007 - accuracy: 0.6992 - val_loss: 0.8176 - val_accuracy: 0.7634\n",
            "Epoch 30/50\n",
            "9/9 [==============================] - 6s 634ms/step - loss: 0.9000 - accuracy: 0.6954 - val_loss: 0.8363 - val_accuracy: 0.7614\n",
            "Epoch 31/50\n",
            "9/9 [==============================] - 6s 610ms/step - loss: 0.9005 - accuracy: 0.6926 - val_loss: 0.8198 - val_accuracy: 0.7634\n",
            "Epoch 32/50\n",
            "9/9 [==============================] - 6s 626ms/step - loss: 0.9058 - accuracy: 0.6949 - val_loss: 0.8187 - val_accuracy: 0.7624\n",
            "Epoch 33/50\n",
            "9/9 [==============================] - 6s 619ms/step - loss: 0.9028 - accuracy: 0.6961 - val_loss: 0.8298 - val_accuracy: 0.7624\n",
            "Epoch 34/50\n",
            "9/9 [==============================] - 6s 625ms/step - loss: 0.8971 - accuracy: 0.6982 - val_loss: 0.8197 - val_accuracy: 0.7634\n",
            "Epoch 35/50\n",
            "9/9 [==============================] - 6s 637ms/step - loss: 0.8962 - accuracy: 0.6992 - val_loss: 0.8421 - val_accuracy: 0.7614\n",
            "Epoch 36/50\n",
            "9/9 [==============================] - 6s 632ms/step - loss: 0.8918 - accuracy: 0.6954 - val_loss: 0.8185 - val_accuracy: 0.7634\n",
            "Epoch 37/50\n",
            "9/9 [==============================] - 6s 631ms/step - loss: 0.8818 - accuracy: 0.6990 - val_loss: 0.8332 - val_accuracy: 0.7614\n",
            "Epoch 38/50\n",
            "9/9 [==============================] - 6s 628ms/step - loss: 0.8854 - accuracy: 0.6959 - val_loss: 0.8167 - val_accuracy: 0.7634\n",
            "Epoch 39/50\n",
            "9/9 [==============================] - 6s 634ms/step - loss: 0.8959 - accuracy: 0.6985 - val_loss: 0.8232 - val_accuracy: 0.7634\n",
            "Epoch 40/50\n",
            "9/9 [==============================] - 6s 621ms/step - loss: 0.8826 - accuracy: 0.6980 - val_loss: 0.8303 - val_accuracy: 0.7634\n",
            "Epoch 41/50\n",
            "9/9 [==============================] - 6s 635ms/step - loss: 0.8906 - accuracy: 0.6952 - val_loss: 0.8208 - val_accuracy: 0.7634\n",
            "Epoch 42/50\n",
            "9/9 [==============================] - 6s 635ms/step - loss: 0.8934 - accuracy: 0.6987 - val_loss: 0.8190 - val_accuracy: 0.7634\n",
            "Epoch 43/50\n",
            "9/9 [==============================] - 6s 624ms/step - loss: 0.8782 - accuracy: 0.6982 - val_loss: 0.8119 - val_accuracy: 0.7634\n",
            "Epoch 44/50\n",
            "9/9 [==============================] - 6s 621ms/step - loss: 0.8804 - accuracy: 0.6990 - val_loss: 0.8287 - val_accuracy: 0.7634\n",
            "Epoch 45/50\n",
            "9/9 [==============================] - 6s 624ms/step - loss: 0.8804 - accuracy: 0.6975 - val_loss: 0.8168 - val_accuracy: 0.7634\n",
            "Epoch 46/50\n",
            "9/9 [==============================] - 6s 628ms/step - loss: 0.8807 - accuracy: 0.6990 - val_loss: 0.8333 - val_accuracy: 0.7624\n",
            "Epoch 47/50\n",
            "9/9 [==============================] - 6s 632ms/step - loss: 0.8821 - accuracy: 0.6987 - val_loss: 0.8309 - val_accuracy: 0.7624\n",
            "Epoch 48/50\n",
            "9/9 [==============================] - 6s 633ms/step - loss: 0.8734 - accuracy: 0.6975 - val_loss: 0.8175 - val_accuracy: 0.7634\n",
            "Epoch 49/50\n",
            "9/9 [==============================] - 6s 618ms/step - loss: 0.8645 - accuracy: 0.7027 - val_loss: 0.8191 - val_accuracy: 0.7634\n",
            "Epoch 50/50\n",
            "9/9 [==============================] - 6s 622ms/step - loss: 0.8648 - accuracy: 0.7006 - val_loss: 0.8160 - val_accuracy: 0.7634\n"
          ]
        }
      ],
      "source": [
        "# training the model with necessary epoch and batch size\n",
        "\n",
        "history = model.fit(xtrain_padding, y=ytrain_encode, batch_size=512, epochs=50, verbose=1, validation_data=(xtest_padding, ytest_encode))"
      ]
    },
    {
      "cell_type": "code",
      "execution_count": null,
      "metadata": {
        "colab": {
          "base_uri": "https://localhost:8080/"
        },
        "id": "vN5uubW3Zlwe",
        "outputId": "aab9a171-552b-4d5c-d5e7-ba347e14f5f0"
      },
      "outputs": [
        {
          "output_type": "stream",
          "name": "stdout",
          "text": [
            "32/32 [==============================] - 1s 37ms/step - loss: 0.8160 - accuracy: 0.7634\n"
          ]
        }
      ],
      "source": [
        "# evaluating the model\n",
        "\n",
        "score = model.evaluate(xtest_padding, ytest_encode, verbose=1)"
      ]
    },
    {
      "cell_type": "code",
      "execution_count": null,
      "metadata": {
        "colab": {
          "base_uri": "https://localhost:8080/"
        },
        "id": "2JrBZmJmZusN",
        "outputId": "1f429d03-f3fd-4d48-80ba-57327303d763"
      },
      "outputs": [
        {
          "output_type": "stream",
          "name": "stdout",
          "text": [
            "0.22542921738787036\n"
          ]
        }
      ],
      "source": [
        "# calculating the f1 score\n",
        "\n",
        "from sklearn.metrics import f1_score, precision_score, recall_score, confusion_matrix\n",
        "y_pred1 = model.predict(xtest_padding)\n",
        "y_pred = np.argmax(y_pred1, axis=1)\n",
        "print(f1_score(ytest, y_pred , average=\"macro\"))"
      ]
    },
    {
      "cell_type": "code",
      "execution_count": null,
      "metadata": {
        "id": "5Td8Z19-XC5t"
      },
      "outputs": [],
      "source": [
        ""
      ]
    }
  ],
  "metadata": {
    "accelerator": "GPU",
    "colab": {
      "collapsed_sections": [],
      "name": "subtask_a_bilstm.ipynb",
      "provenance": []
    },
    "kernelspec": {
      "display_name": "Python 3",
      "name": "python3"
    },
    "language_info": {
      "name": "python"
    }
  },
  "nbformat": 4,
  "nbformat_minor": 0
}