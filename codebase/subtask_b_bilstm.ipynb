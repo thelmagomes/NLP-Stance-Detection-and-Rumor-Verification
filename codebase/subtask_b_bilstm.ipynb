{
  "nbformat": 4,
  "nbformat_minor": 0,
  "metadata": {
    "colab": {
      "name": "subtask_b_bilstm.ipynb",
      "provenance": [],
      "collapsed_sections": []
    },
    "kernelspec": {
      "name": "python3",
      "display_name": "Python 3"
    },
    "language_info": {
      "name": "python"
    },
    "accelerator": "GPU"
  },
  "cells": [
    {
      "cell_type": "code",
      "execution_count": null,
      "metadata": {
        "id": "QhHv76-IKgPj",
        "colab": {
          "base_uri": "https://localhost:8080/"
        },
        "outputId": "640e6402-10eb-483d-bfa9-41543fab8af6"
      },
      "outputs": [
        {
          "output_type": "stream",
          "name": "stdout",
          "text": [
            "[nltk_data] Downloading package stopwords to /root/nltk_data...\n",
            "[nltk_data]   Unzipping corpora/stopwords.zip.\n",
            "[nltk_data] Downloading package punkt to /root/nltk_data...\n",
            "[nltk_data]   Unzipping tokenizers/punkt.zip.\n",
            "[nltk_data] Downloading package wordnet to /root/nltk_data...\n",
            "[nltk_data]   Unzipping corpora/wordnet.zip.\n"
          ]
        }
      ],
      "source": [
        "# importing the necessary modules\n",
        "\n",
        "import pandas as pd\n",
        "import numpy as np\n",
        "import matplotlib.pyplot as plt\n",
        "from nltk.tokenize import word_tokenize\n",
        "from nltk.stem import WordNetLemmatizer\n",
        "from nltk.stem import PorterStemmer\n",
        "from sklearn import preprocessing\n",
        "from tqdm import tqdm\n",
        "from keras.models import Sequential\n",
        "from keras.layers.recurrent import LSTM, GRU\n",
        "from keras.layers.core import Dense, Activation, Dropout\n",
        "from keras.layers.embeddings import Embedding\n",
        "import nltk\n",
        "nltk.download('stopwords')\n",
        "from keras.utils import np_utils\n",
        "from keras.layers import GlobalMaxPooling1D, Conv1D, MaxPooling1D,Flatten, Bidirectional, SpatialDropout1D\n",
        "from sklearn.model_selection import train_test_split\n",
        "from keras.preprocessing import sequence\n",
        "from keras.preprocessing.text import Tokenizer\n",
        "from keras.callbacks import EarlyStopping\n",
        "import matplotlib.pyplot as plt\n",
        "from nltk.corpus import stopwords\n",
        "STOPWORDS = set(stopwords.words('english'))\n",
        "import tensorflow as tf\n",
        "from tensorflow.keras.layers import BatchNormalization\n",
        "from sklearn.model_selection import train_test_split\n",
        "import nltk\n",
        "import re\n",
        "nltk.download('punkt')\n",
        "nltk.download('wordnet')\n",
        "from sklearn.metrics import f1_score, precision_score, recall_score, confusion_matrix"
      ]
    },
    {
      "cell_type": "code",
      "source": [
        "# loading the dataset\n",
        "df_train = pd.read_csv(\"training_task_b_source_tweets.csv\")\n",
        "df_test = pd.read_csv(\"test_task_b_tweets.csv\")"
      ],
      "metadata": {
        "id": "p2V3KjIyK24R"
      },
      "execution_count": null,
      "outputs": []
    },
    {
      "cell_type": "code",
      "source": [
        "df_train.head()"
      ],
      "metadata": {
        "colab": {
          "base_uri": "https://localhost:8080/",
          "height": 652
        },
        "id": "thhmk04xLCVz",
        "outputId": "43775699-b0cf-4426-ed6e-b1ab1cce01be"
      },
      "execution_count": null,
      "outputs": [
        {
          "output_type": "execute_result",
          "data": {
            "text/plain": [
              "                   id  in_reply_to_status_id_str  \\\n",
              "0  552783667052167168                        NaN   \n",
              "1  552785375161499649                        NaN   \n",
              "2  552791196247269378                        NaN   \n",
              "3  552791578893619200                        NaN   \n",
              "4  552792544132997121                        NaN   \n",
              "\n",
              "                                                text  user.verified  \\\n",
              "0  France: 10 people dead after shooting at HQ of...           True   \n",
              "1  BREAKING: 10 reportedly shot dead at Paris HQ ...           True   \n",
              "2  BREAKING: At least 10 killed in shooting at Fr...           True   \n",
              "3  Eleven dead in shooting at Paris offices of sa...           True   \n",
              "4  BREAKING Charlie Hebdo latest: 11 dead 10 woun...           True   \n",
              "\n",
              "   user.followers_count  retweet_count  favorite_count  \\\n",
              "0                129573            486              38   \n",
              "1                972167            128               5   \n",
              "2               3029912            295              78   \n",
              "3               3091451            338              28   \n",
              "4                973212            203              32   \n",
              "\n",
              "                                 entities.hashtags  \\\n",
              "0  [{'indices': [74, 87], 'text': 'CharlieHebdo'}]   \n",
              "1                                               []   \n",
              "2                                               []   \n",
              "3                                               []   \n",
              "4                                               []   \n",
              "\n",
              "                                       entities.urls label  \n",
              "0                                                 []  true  \n",
              "1  [{'url': 'http://t.co/5F1DOwzoCQ', 'indices': ...  true  \n",
              "2  [{'url': 'http://t.co/mnAeA7j7fY', 'indices': ...  true  \n",
              "3  [{'url': 'http://t.co/gOtSqbwROc', 'indices': ...  true  \n",
              "4  [{'url': 'http://t.co/kjW3uwCV0f', 'indices': ...  true  "
            ],
            "text/html": [
              "\n",
              "  <div id=\"df-7e828634-45cc-4f2e-b739-afd3f5379c0d\">\n",
              "    <div class=\"colab-df-container\">\n",
              "      <div>\n",
              "<style scoped>\n",
              "    .dataframe tbody tr th:only-of-type {\n",
              "        vertical-align: middle;\n",
              "    }\n",
              "\n",
              "    .dataframe tbody tr th {\n",
              "        vertical-align: top;\n",
              "    }\n",
              "\n",
              "    .dataframe thead th {\n",
              "        text-align: right;\n",
              "    }\n",
              "</style>\n",
              "<table border=\"1\" class=\"dataframe\">\n",
              "  <thead>\n",
              "    <tr style=\"text-align: right;\">\n",
              "      <th></th>\n",
              "      <th>id</th>\n",
              "      <th>in_reply_to_status_id_str</th>\n",
              "      <th>text</th>\n",
              "      <th>user.verified</th>\n",
              "      <th>user.followers_count</th>\n",
              "      <th>retweet_count</th>\n",
              "      <th>favorite_count</th>\n",
              "      <th>entities.hashtags</th>\n",
              "      <th>entities.urls</th>\n",
              "      <th>label</th>\n",
              "    </tr>\n",
              "  </thead>\n",
              "  <tbody>\n",
              "    <tr>\n",
              "      <th>0</th>\n",
              "      <td>552783667052167168</td>\n",
              "      <td>NaN</td>\n",
              "      <td>France: 10 people dead after shooting at HQ of...</td>\n",
              "      <td>True</td>\n",
              "      <td>129573</td>\n",
              "      <td>486</td>\n",
              "      <td>38</td>\n",
              "      <td>[{'indices': [74, 87], 'text': 'CharlieHebdo'}]</td>\n",
              "      <td>[]</td>\n",
              "      <td>true</td>\n",
              "    </tr>\n",
              "    <tr>\n",
              "      <th>1</th>\n",
              "      <td>552785375161499649</td>\n",
              "      <td>NaN</td>\n",
              "      <td>BREAKING: 10 reportedly shot dead at Paris HQ ...</td>\n",
              "      <td>True</td>\n",
              "      <td>972167</td>\n",
              "      <td>128</td>\n",
              "      <td>5</td>\n",
              "      <td>[]</td>\n",
              "      <td>[{'url': 'http://t.co/5F1DOwzoCQ', 'indices': ...</td>\n",
              "      <td>true</td>\n",
              "    </tr>\n",
              "    <tr>\n",
              "      <th>2</th>\n",
              "      <td>552791196247269378</td>\n",
              "      <td>NaN</td>\n",
              "      <td>BREAKING: At least 10 killed in shooting at Fr...</td>\n",
              "      <td>True</td>\n",
              "      <td>3029912</td>\n",
              "      <td>295</td>\n",
              "      <td>78</td>\n",
              "      <td>[]</td>\n",
              "      <td>[{'url': 'http://t.co/mnAeA7j7fY', 'indices': ...</td>\n",
              "      <td>true</td>\n",
              "    </tr>\n",
              "    <tr>\n",
              "      <th>3</th>\n",
              "      <td>552791578893619200</td>\n",
              "      <td>NaN</td>\n",
              "      <td>Eleven dead in shooting at Paris offices of sa...</td>\n",
              "      <td>True</td>\n",
              "      <td>3091451</td>\n",
              "      <td>338</td>\n",
              "      <td>28</td>\n",
              "      <td>[]</td>\n",
              "      <td>[{'url': 'http://t.co/gOtSqbwROc', 'indices': ...</td>\n",
              "      <td>true</td>\n",
              "    </tr>\n",
              "    <tr>\n",
              "      <th>4</th>\n",
              "      <td>552792544132997121</td>\n",
              "      <td>NaN</td>\n",
              "      <td>BREAKING Charlie Hebdo latest: 11 dead 10 woun...</td>\n",
              "      <td>True</td>\n",
              "      <td>973212</td>\n",
              "      <td>203</td>\n",
              "      <td>32</td>\n",
              "      <td>[]</td>\n",
              "      <td>[{'url': 'http://t.co/kjW3uwCV0f', 'indices': ...</td>\n",
              "      <td>true</td>\n",
              "    </tr>\n",
              "  </tbody>\n",
              "</table>\n",
              "</div>\n",
              "      <button class=\"colab-df-convert\" onclick=\"convertToInteractive('df-7e828634-45cc-4f2e-b739-afd3f5379c0d')\"\n",
              "              title=\"Convert this dataframe to an interactive table.\"\n",
              "              style=\"display:none;\">\n",
              "        \n",
              "  <svg xmlns=\"http://www.w3.org/2000/svg\" height=\"24px\"viewBox=\"0 0 24 24\"\n",
              "       width=\"24px\">\n",
              "    <path d=\"M0 0h24v24H0V0z\" fill=\"none\"/>\n",
              "    <path d=\"M18.56 5.44l.94 2.06.94-2.06 2.06-.94-2.06-.94-.94-2.06-.94 2.06-2.06.94zm-11 1L8.5 8.5l.94-2.06 2.06-.94-2.06-.94L8.5 2.5l-.94 2.06-2.06.94zm10 10l.94 2.06.94-2.06 2.06-.94-2.06-.94-.94-2.06-.94 2.06-2.06.94z\"/><path d=\"M17.41 7.96l-1.37-1.37c-.4-.4-.92-.59-1.43-.59-.52 0-1.04.2-1.43.59L10.3 9.45l-7.72 7.72c-.78.78-.78 2.05 0 2.83L4 21.41c.39.39.9.59 1.41.59.51 0 1.02-.2 1.41-.59l7.78-7.78 2.81-2.81c.8-.78.8-2.07 0-2.86zM5.41 20L4 18.59l7.72-7.72 1.47 1.35L5.41 20z\"/>\n",
              "  </svg>\n",
              "      </button>\n",
              "      \n",
              "  <style>\n",
              "    .colab-df-container {\n",
              "      display:flex;\n",
              "      flex-wrap:wrap;\n",
              "      gap: 12px;\n",
              "    }\n",
              "\n",
              "    .colab-df-convert {\n",
              "      background-color: #E8F0FE;\n",
              "      border: none;\n",
              "      border-radius: 50%;\n",
              "      cursor: pointer;\n",
              "      display: none;\n",
              "      fill: #1967D2;\n",
              "      height: 32px;\n",
              "      padding: 0 0 0 0;\n",
              "      width: 32px;\n",
              "    }\n",
              "\n",
              "    .colab-df-convert:hover {\n",
              "      background-color: #E2EBFA;\n",
              "      box-shadow: 0px 1px 2px rgba(60, 64, 67, 0.3), 0px 1px 3px 1px rgba(60, 64, 67, 0.15);\n",
              "      fill: #174EA6;\n",
              "    }\n",
              "\n",
              "    [theme=dark] .colab-df-convert {\n",
              "      background-color: #3B4455;\n",
              "      fill: #D2E3FC;\n",
              "    }\n",
              "\n",
              "    [theme=dark] .colab-df-convert:hover {\n",
              "      background-color: #434B5C;\n",
              "      box-shadow: 0px 1px 3px 1px rgba(0, 0, 0, 0.15);\n",
              "      filter: drop-shadow(0px 1px 2px rgba(0, 0, 0, 0.3));\n",
              "      fill: #FFFFFF;\n",
              "    }\n",
              "  </style>\n",
              "\n",
              "      <script>\n",
              "        const buttonEl =\n",
              "          document.querySelector('#df-7e828634-45cc-4f2e-b739-afd3f5379c0d button.colab-df-convert');\n",
              "        buttonEl.style.display =\n",
              "          google.colab.kernel.accessAllowed ? 'block' : 'none';\n",
              "\n",
              "        async function convertToInteractive(key) {\n",
              "          const element = document.querySelector('#df-7e828634-45cc-4f2e-b739-afd3f5379c0d');\n",
              "          const dataTable =\n",
              "            await google.colab.kernel.invokeFunction('convertToInteractive',\n",
              "                                                     [key], {});\n",
              "          if (!dataTable) return;\n",
              "\n",
              "          const docLinkHtml = 'Like what you see? Visit the ' +\n",
              "            '<a target=\"_blank\" href=https://colab.research.google.com/notebooks/data_table.ipynb>data table notebook</a>'\n",
              "            + ' to learn more about interactive tables.';\n",
              "          element.innerHTML = '';\n",
              "          dataTable['output_type'] = 'display_data';\n",
              "          await google.colab.output.renderOutput(dataTable, element);\n",
              "          const docLink = document.createElement('div');\n",
              "          docLink.innerHTML = docLinkHtml;\n",
              "          element.appendChild(docLink);\n",
              "        }\n",
              "      </script>\n",
              "    </div>\n",
              "  </div>\n",
              "  "
            ]
          },
          "metadata": {},
          "execution_count": 3
        }
      ]
    },
    {
      "cell_type": "code",
      "source": [
        "df_train.label.unique()"
      ],
      "metadata": {
        "colab": {
          "base_uri": "https://localhost:8080/"
        },
        "id": "gAsaxWMFLJh7",
        "outputId": "875f371f-4cbd-43a4-976c-3dc868ce3bbf"
      },
      "execution_count": null,
      "outputs": [
        {
          "output_type": "execute_result",
          "data": {
            "text/plain": [
              "array(['true', 'false', 'unverified'], dtype=object)"
            ]
          },
          "metadata": {},
          "execution_count": 4
        }
      ]
    },
    {
      "cell_type": "code",
      "source": [
        "#dropping the unwanted columns and converting the text into lower\n",
        "df_train.drop(df_train.columns[[0,1,3,4,5,6,7,8]], axis = 1, inplace = True)\n",
        "df_test.drop(df_test.columns[[0,1,3,4,5,6,7,8]], axis = 1, inplace = True)"
      ],
      "metadata": {
        "id": "8I6fYt_fLG8u"
      },
      "execution_count": null,
      "outputs": []
    },
    {
      "cell_type": "code",
      "source": [
        "df_train.head()"
      ],
      "metadata": {
        "colab": {
          "base_uri": "https://localhost:8080/",
          "height": 206
        },
        "id": "FZucHb0fLVwS",
        "outputId": "c982b361-c2fb-467a-e7b4-e1699c1109c2"
      },
      "execution_count": null,
      "outputs": [
        {
          "output_type": "execute_result",
          "data": {
            "text/plain": [
              "                                                text label\n",
              "0  France: 10 people dead after shooting at HQ of...  true\n",
              "1  BREAKING: 10 reportedly shot dead at Paris HQ ...  true\n",
              "2  BREAKING: At least 10 killed in shooting at Fr...  true\n",
              "3  Eleven dead in shooting at Paris offices of sa...  true\n",
              "4  BREAKING Charlie Hebdo latest: 11 dead 10 woun...  true"
            ],
            "text/html": [
              "\n",
              "  <div id=\"df-dea18a11-4e99-460f-8597-25f51a9ea65b\">\n",
              "    <div class=\"colab-df-container\">\n",
              "      <div>\n",
              "<style scoped>\n",
              "    .dataframe tbody tr th:only-of-type {\n",
              "        vertical-align: middle;\n",
              "    }\n",
              "\n",
              "    .dataframe tbody tr th {\n",
              "        vertical-align: top;\n",
              "    }\n",
              "\n",
              "    .dataframe thead th {\n",
              "        text-align: right;\n",
              "    }\n",
              "</style>\n",
              "<table border=\"1\" class=\"dataframe\">\n",
              "  <thead>\n",
              "    <tr style=\"text-align: right;\">\n",
              "      <th></th>\n",
              "      <th>text</th>\n",
              "      <th>label</th>\n",
              "    </tr>\n",
              "  </thead>\n",
              "  <tbody>\n",
              "    <tr>\n",
              "      <th>0</th>\n",
              "      <td>France: 10 people dead after shooting at HQ of...</td>\n",
              "      <td>true</td>\n",
              "    </tr>\n",
              "    <tr>\n",
              "      <th>1</th>\n",
              "      <td>BREAKING: 10 reportedly shot dead at Paris HQ ...</td>\n",
              "      <td>true</td>\n",
              "    </tr>\n",
              "    <tr>\n",
              "      <th>2</th>\n",
              "      <td>BREAKING: At least 10 killed in shooting at Fr...</td>\n",
              "      <td>true</td>\n",
              "    </tr>\n",
              "    <tr>\n",
              "      <th>3</th>\n",
              "      <td>Eleven dead in shooting at Paris offices of sa...</td>\n",
              "      <td>true</td>\n",
              "    </tr>\n",
              "    <tr>\n",
              "      <th>4</th>\n",
              "      <td>BREAKING Charlie Hebdo latest: 11 dead 10 woun...</td>\n",
              "      <td>true</td>\n",
              "    </tr>\n",
              "  </tbody>\n",
              "</table>\n",
              "</div>\n",
              "      <button class=\"colab-df-convert\" onclick=\"convertToInteractive('df-dea18a11-4e99-460f-8597-25f51a9ea65b')\"\n",
              "              title=\"Convert this dataframe to an interactive table.\"\n",
              "              style=\"display:none;\">\n",
              "        \n",
              "  <svg xmlns=\"http://www.w3.org/2000/svg\" height=\"24px\"viewBox=\"0 0 24 24\"\n",
              "       width=\"24px\">\n",
              "    <path d=\"M0 0h24v24H0V0z\" fill=\"none\"/>\n",
              "    <path d=\"M18.56 5.44l.94 2.06.94-2.06 2.06-.94-2.06-.94-.94-2.06-.94 2.06-2.06.94zm-11 1L8.5 8.5l.94-2.06 2.06-.94-2.06-.94L8.5 2.5l-.94 2.06-2.06.94zm10 10l.94 2.06.94-2.06 2.06-.94-2.06-.94-.94-2.06-.94 2.06-2.06.94z\"/><path d=\"M17.41 7.96l-1.37-1.37c-.4-.4-.92-.59-1.43-.59-.52 0-1.04.2-1.43.59L10.3 9.45l-7.72 7.72c-.78.78-.78 2.05 0 2.83L4 21.41c.39.39.9.59 1.41.59.51 0 1.02-.2 1.41-.59l7.78-7.78 2.81-2.81c.8-.78.8-2.07 0-2.86zM5.41 20L4 18.59l7.72-7.72 1.47 1.35L5.41 20z\"/>\n",
              "  </svg>\n",
              "      </button>\n",
              "      \n",
              "  <style>\n",
              "    .colab-df-container {\n",
              "      display:flex;\n",
              "      flex-wrap:wrap;\n",
              "      gap: 12px;\n",
              "    }\n",
              "\n",
              "    .colab-df-convert {\n",
              "      background-color: #E8F0FE;\n",
              "      border: none;\n",
              "      border-radius: 50%;\n",
              "      cursor: pointer;\n",
              "      display: none;\n",
              "      fill: #1967D2;\n",
              "      height: 32px;\n",
              "      padding: 0 0 0 0;\n",
              "      width: 32px;\n",
              "    }\n",
              "\n",
              "    .colab-df-convert:hover {\n",
              "      background-color: #E2EBFA;\n",
              "      box-shadow: 0px 1px 2px rgba(60, 64, 67, 0.3), 0px 1px 3px 1px rgba(60, 64, 67, 0.15);\n",
              "      fill: #174EA6;\n",
              "    }\n",
              "\n",
              "    [theme=dark] .colab-df-convert {\n",
              "      background-color: #3B4455;\n",
              "      fill: #D2E3FC;\n",
              "    }\n",
              "\n",
              "    [theme=dark] .colab-df-convert:hover {\n",
              "      background-color: #434B5C;\n",
              "      box-shadow: 0px 1px 3px 1px rgba(0, 0, 0, 0.15);\n",
              "      filter: drop-shadow(0px 1px 2px rgba(0, 0, 0, 0.3));\n",
              "      fill: #FFFFFF;\n",
              "    }\n",
              "  </style>\n",
              "\n",
              "      <script>\n",
              "        const buttonEl =\n",
              "          document.querySelector('#df-dea18a11-4e99-460f-8597-25f51a9ea65b button.colab-df-convert');\n",
              "        buttonEl.style.display =\n",
              "          google.colab.kernel.accessAllowed ? 'block' : 'none';\n",
              "\n",
              "        async function convertToInteractive(key) {\n",
              "          const element = document.querySelector('#df-dea18a11-4e99-460f-8597-25f51a9ea65b');\n",
              "          const dataTable =\n",
              "            await google.colab.kernel.invokeFunction('convertToInteractive',\n",
              "                                                     [key], {});\n",
              "          if (!dataTable) return;\n",
              "\n",
              "          const docLinkHtml = 'Like what you see? Visit the ' +\n",
              "            '<a target=\"_blank\" href=https://colab.research.google.com/notebooks/data_table.ipynb>data table notebook</a>'\n",
              "            + ' to learn more about interactive tables.';\n",
              "          element.innerHTML = '';\n",
              "          dataTable['output_type'] = 'display_data';\n",
              "          await google.colab.output.renderOutput(dataTable, element);\n",
              "          const docLink = document.createElement('div');\n",
              "          docLink.innerHTML = docLinkHtml;\n",
              "          element.appendChild(docLink);\n",
              "        }\n",
              "      </script>\n",
              "    </div>\n",
              "  </div>\n",
              "  "
            ]
          },
          "metadata": {},
          "execution_count": 6
        }
      ]
    },
    {
      "cell_type": "code",
      "source": [
        "import nltk\n",
        "import re\n",
        "from tqdm import tqdm\n",
        "import nltk\n",
        "from nltk.corpus import stopwords\n",
        "nltk.download('stopwords')\n",
        "from nltk.corpus import stopwords\n",
        "STOPWORDS = set(stopwords.words('english'))\n",
        "REPLACE_BY_SPACE_RE = re.compile('[/(){}\\[\\]\\|@,;]')\n",
        "BAD_SYMBOLS_RE = re.compile('[^0-9a-z #+_]')\n",
        "nltk.download('punkt')\n",
        "nltk.download('wordnet')"
      ],
      "metadata": {
        "colab": {
          "base_uri": "https://localhost:8080/"
        },
        "id": "b-gGLENsiCqx",
        "outputId": "27b4d30f-052d-4ae4-ab0e-96a26e72f298"
      },
      "execution_count": null,
      "outputs": [
        {
          "output_type": "stream",
          "name": "stdout",
          "text": [
            "[nltk_data] Downloading package stopwords to /root/nltk_data...\n",
            "[nltk_data]   Package stopwords is already up-to-date!\n",
            "[nltk_data] Downloading package punkt to /root/nltk_data...\n",
            "[nltk_data]   Package punkt is already up-to-date!\n",
            "[nltk_data] Downloading package wordnet to /root/nltk_data...\n",
            "[nltk_data]   Package wordnet is already up-to-date!\n"
          ]
        },
        {
          "output_type": "execute_result",
          "data": {
            "text/plain": [
              "True"
            ]
          },
          "metadata": {},
          "execution_count": 7
        }
      ]
    },
    {
      "cell_type": "code",
      "source": [
        "#Applying the necessary preprocessing techniques\n",
        "def getLemmText(text):\n",
        " tokens=word_tokenize(text)\n",
        " lemmatizer = WordNetLemmatizer()\n",
        " tokens=[lemmatizer.lemmatize(word) for word in tokens]\n",
        " return ' '.join(tokens)\n",
        "def stop_words(text):\n",
        "  text = REPLACE_BY_SPACE_RE.sub(' ', text)\n",
        "  text = BAD_SYMBOLS_RE.sub('', text)\n",
        "  text = ' '.join(word for word in text.split() if word not in STOPWORDS)\n",
        "  return text\n",
        "def getStemmText(text):\n",
        " tokens=word_tokenize(text)\n",
        " ps = PorterStemmer()\n",
        " tokens=[ps.stem(word) for word in tokens]\n",
        " return ' '.join(tokens)"
      ],
      "metadata": {
        "id": "qImym-KMiJ4k"
      },
      "execution_count": null,
      "outputs": []
    },
    {
      "cell_type": "code",
      "source": [
        "df_train['text'] = list(map(stop_words,df_train['text']))\n",
        "df_train['text'] = list(map(getLemmText,df_train['text']))\n",
        "df_train['text'] = list(map(getStemmText,df_train['text']))\n",
        "\n",
        "\n",
        "df_test['text'] = list(map(stop_words,df_test['text']))\n",
        "df_test['text'] = list(map(getLemmText,df_test['text']))\n",
        "df_test['text'] = list(map(getStemmText,df_test['text']))"
      ],
      "metadata": {
        "id": "bcqpX7PqiWmX"
      },
      "execution_count": null,
      "outputs": []
    },
    {
      "cell_type": "code",
      "source": [
        "# converting the categorical text values into label encoding\n",
        "label_encoder = preprocessing.LabelEncoder()\n",
        "df_train['label'] = label_encoder.fit_transform(df_train.label.values)\n",
        "df_test['label'] = label_encoder.fit_transform(df_test.label.values)"
      ],
      "metadata": {
        "id": "OmStEKsYLpQd"
      },
      "execution_count": null,
      "outputs": []
    },
    {
      "cell_type": "code",
      "source": [
        "ytrain = df_train[\"label\"]\n",
        "ytest = df_test[\"label\"]\n",
        "xtrain = df_train[\"text\"]\n",
        "xtest = df_test[\"text\"]"
      ],
      "metadata": {
        "id": "1Omxpi5_jKaB"
      },
      "execution_count": null,
      "outputs": []
    },
    {
      "cell_type": "code",
      "source": [
        "# Loading the pre-trained GLOVE embeddings\n",
        "embeddings_index = {}\n",
        "f = open('glove.6B.100d.txt',encoding='utf8')\n",
        "for line in tqdm(f):\n",
        " values = line.split()\n",
        " word = values[0]\n",
        " coefs = np.asarray(values[1:], dtype='float32')\n",
        " embeddings_index[word] = coefs\n",
        "f.close()"
      ],
      "metadata": {
        "colab": {
          "base_uri": "https://localhost:8080/"
        },
        "id": "GE6SZL9QL1X2",
        "outputId": "cd5a8427-aa2b-43ef-909c-ac0b207fbf22"
      },
      "execution_count": null,
      "outputs": [
        {
          "output_type": "stream",
          "name": "stderr",
          "text": [
            "2449it [00:00, 50011.69it/s]\n"
          ]
        }
      ]
    },
    {
      "cell_type": "code",
      "source": [
        "# defining the necessary parameters for the glove text vector\n",
        "VOCABULARY_SIZE,MAX_LENGTH = 2000,60"
      ],
      "metadata": {
        "id": "_sQITy3UNgKo"
      },
      "execution_count": null,
      "outputs": []
    },
    {
      "cell_type": "code",
      "source": [
        "tokenizer = Tokenizer(num_words=VOCABULARY_SIZE)\n",
        "tokenizer.fit_on_texts(list(xtrain) + list(xtest))"
      ],
      "metadata": {
        "id": "yKKWV8o5NmH3"
      },
      "execution_count": null,
      "outputs": []
    },
    {
      "cell_type": "code",
      "source": [
        "xtrain_sequence = tokenizer.texts_to_sequences(xtrain)\n",
        "xtest_sequence = tokenizer.texts_to_sequences(xtest)"
      ],
      "metadata": {
        "id": "lwRuGBPZNpaZ"
      },
      "execution_count": null,
      "outputs": []
    },
    {
      "cell_type": "code",
      "source": [
        "# padding the input text\n",
        "xtrain_padding = sequence.pad_sequences(xtrain_sequence, maxlen=MAX_LENGTH)\n",
        "xtest_padding = sequence.pad_sequences(xtest_sequence, maxlen=MAX_LENGTH)\n",
        "word_index = tokenizer.word_index"
      ],
      "metadata": {
        "id": "lW9RUWOSNsGZ"
      },
      "execution_count": null,
      "outputs": []
    },
    {
      "cell_type": "code",
      "source": [
        "# converting the word embedding into embedding matrix\n",
        "embedding_matrix = np.zeros((len(word_index) + 1, 100))\n",
        "for word, i in tqdm(word_index.items()):\n",
        " embedding_vector = embeddings_index.get(word)\n",
        " if embedding_vector is not None:\n",
        "  embedding_matrix[i] = embedding_vector"
      ],
      "metadata": {
        "colab": {
          "base_uri": "https://localhost:8080/"
        },
        "id": "K73rC5ItNuo6",
        "outputId": "84f8293a-3c69-497d-b744-be9d0a982297"
      },
      "execution_count": null,
      "outputs": [
        {
          "output_type": "stream",
          "name": "stderr",
          "text": [
            "100%|██████████| 1724/1724 [00:00<00:00, 506016.80it/s]\n"
          ]
        }
      ]
    },
    {
      "cell_type": "code",
      "source": [
        "# Defining the model with BiLSTM and feed forward neural networks with dense layers having relu activation and output with softmax activation\n",
        "model = Sequential()\n",
        "model.add(Embedding(len(word_index) + 1,100,weights=[embedding_matrix],input_length=MAX_LENGTH,trainable=False))\n",
        "model.add(SpatialDropout1D(0.3))\n",
        "model.add(Bidirectional(LSTM(100, dropout=0.3, recurrent_dropout=0.3)))\n",
        "model.add(Dense(1024, activation='relu'))\n",
        "model.add(Dropout(0.8))\n",
        "model.add(Dense(1024, activation='relu'))\n",
        "model.add(Dropout(0.8))\n",
        "model.add(Dense(3))\n",
        "model.add(Activation('softmax'))\n",
        "model.compile(loss='categorical_crossentropy', optimizer='adam', metrics=['accuracy'])"
      ],
      "metadata": {
        "id": "QHFOqiDBNztJ"
      },
      "execution_count": null,
      "outputs": []
    },
    {
      "cell_type": "code",
      "source": [
        "print(model.summary())"
      ],
      "metadata": {
        "colab": {
          "base_uri": "https://localhost:8080/"
        },
        "id": "AnZ8FKripuD9",
        "outputId": "9119fd0c-e8c9-4d4d-a9b2-d795d534d873"
      },
      "execution_count": null,
      "outputs": [
        {
          "output_type": "stream",
          "name": "stdout",
          "text": [
            "Model: \"sequential\"\n",
            "_________________________________________________________________\n",
            " Layer (type)                Output Shape              Param #   \n",
            "=================================================================\n",
            " embedding (Embedding)       (None, 60, 100)           172500    \n",
            "                                                                 \n",
            " spatial_dropout1d (SpatialD  (None, 60, 100)          0         \n",
            " ropout1D)                                                       \n",
            "                                                                 \n",
            " bidirectional (Bidirectiona  (None, 200)              160800    \n",
            " l)                                                              \n",
            "                                                                 \n",
            " dense (Dense)               (None, 1024)              205824    \n",
            "                                                                 \n",
            " dropout (Dropout)           (None, 1024)              0         \n",
            "                                                                 \n",
            " dense_1 (Dense)             (None, 1024)              1049600   \n",
            "                                                                 \n",
            " dropout_1 (Dropout)         (None, 1024)              0         \n",
            "                                                                 \n",
            " dense_2 (Dense)             (None, 3)                 3075      \n",
            "                                                                 \n",
            " activation (Activation)     (None, 3)                 0         \n",
            "                                                                 \n",
            "=================================================================\n",
            "Total params: 1,591,799\n",
            "Trainable params: 1,419,299\n",
            "Non-trainable params: 172,500\n",
            "_________________________________________________________________\n",
            "None\n"
          ]
        }
      ]
    },
    {
      "cell_type": "code",
      "source": [
        "from tensorflow.keras.utils import plot_model\n",
        "plot_model(model, to_file='model_plot1.png', show_shapes=True, show_layer_names=True)"
      ],
      "metadata": {
        "colab": {
          "base_uri": "https://localhost:8080/",
          "height": 1000
        },
        "id": "Otzi7ki3pz52",
        "outputId": "830151f2-7818-4e23-92ff-df2ed0648c87"
      },
      "execution_count": null,
      "outputs": [
        {
          "output_type": "execute_result",
          "data": {
            "text/plain": [
              "<IPython.core.display.Image object>"
            ],
            "image/png": "[encoded data removed]"
          },
          "metadata": {},
          "execution_count": 21
        }
      ]
    },
    {
      "cell_type": "code",
      "source": [
        "# converting the target label into categorical\n",
        "ytrain_encode = np_utils.to_categorical(ytrain)\n",
        "ytest_encode = np_utils.to_categorical(ytest)"
      ],
      "metadata": {
        "id": "aln1WshJN3P7"
      },
      "execution_count": null,
      "outputs": []
    },
    {
      "cell_type": "code",
      "source": [
        "# training the model with necessary epoch and batch size\n",
        "history = model.fit(xtrain_padding, y=ytrain_encode, batch_size=512, epochs=10, verbose=1, validation_data=(xtest_padding, ytest_encode))"
      ],
      "metadata": {
        "colab": {
          "base_uri": "https://localhost:8080/"
        },
        "id": "fdvglq7dN8Pd",
        "outputId": "8309aabe-3965-4407-f862-3dd9491d5560"
      },
      "execution_count": null,
      "outputs": [
        {
          "output_type": "stream",
          "name": "stdout",
          "text": [
            "Epoch 1/10\n",
            "1/1 [==============================] - 10s 10s/step - loss: 1.0923 - accuracy: 0.3603 - val_loss: 1.1033 - val_accuracy: 0.3929\n",
            "Epoch 2/10\n",
            "1/1 [==============================] - 1s 650ms/step - loss: 1.0918 - accuracy: 0.4343 - val_loss: 1.1107 - val_accuracy: 0.3929\n",
            "Epoch 3/10\n",
            "1/1 [==============================] - 1s 691ms/step - loss: 1.0707 - accuracy: 0.4512 - val_loss: 1.1220 - val_accuracy: 0.3929\n",
            "Epoch 4/10\n",
            "1/1 [==============================] - 1s 688ms/step - loss: 1.0757 - accuracy: 0.4377 - val_loss: 1.1357 - val_accuracy: 0.3929\n",
            "Epoch 5/10\n",
            "1/1 [==============================] - 1s 672ms/step - loss: 1.0636 - accuracy: 0.4444 - val_loss: 1.1516 - val_accuracy: 0.3929\n",
            "Epoch 6/10\n",
            "1/1 [==============================] - 1s 697ms/step - loss: 1.0614 - accuracy: 0.4714 - val_loss: 1.1689 - val_accuracy: 0.3929\n",
            "Epoch 7/10\n",
            "1/1 [==============================] - 1s 674ms/step - loss: 1.0580 - accuracy: 0.4512 - val_loss: 1.1848 - val_accuracy: 0.3929\n",
            "Epoch 8/10\n",
            "1/1 [==============================] - 1s 645ms/step - loss: 1.0464 - accuracy: 0.4646 - val_loss: 1.1988 - val_accuracy: 0.3929\n",
            "Epoch 9/10\n",
            "1/1 [==============================] - 1s 706ms/step - loss: 1.0585 - accuracy: 0.4613 - val_loss: 1.2088 - val_accuracy: 0.3929\n",
            "Epoch 10/10\n",
            "1/1 [==============================] - 1s 659ms/step - loss: 1.0462 - accuracy: 0.4613 - val_loss: 1.2155 - val_accuracy: 0.3929\n"
          ]
        }
      ]
    },
    {
      "cell_type": "code",
      "source": [
        "# evaluating the model\n",
        "score = model.evaluate(xtest_padding, ytest_encode, verbose=1)"
      ],
      "metadata": {
        "colab": {
          "base_uri": "https://localhost:8080/"
        },
        "id": "8f92vCDNOWVk",
        "outputId": "c25101db-7ef0-47ec-f2c5-cfa365a85125"
      },
      "execution_count": null,
      "outputs": [
        {
          "output_type": "stream",
          "name": "stdout",
          "text": [
            "2/2 [==============================] - 0s 41ms/step - loss: 1.2155 - accuracy: 0.3929\n"
          ]
        }
      ]
    },
    {
      "cell_type": "code",
      "source": [
        "# calculating the f1 score\n",
        "from sklearn.metrics import f1_score, precision_score, recall_score, confusion_matrix\n",
        "y_pred1 = model.predict(xtest_padding)\n",
        "y_pred = np.argmax(y_pred1, axis=1)\n",
        "print(f1_score(ytest, y_pred , average=\"macro\"))"
      ],
      "metadata": {
        "colab": {
          "base_uri": "https://localhost:8080/"
        },
        "id": "sLU4RIBqQdEx",
        "outputId": "39c73137-afea-4ad1-9242-e3a2f11ad10e"
      },
      "execution_count": null,
      "outputs": [
        {
          "output_type": "stream",
          "name": "stdout",
          "text": [
            "0.18803418803418803\n"
          ]
        }
      ]
    },
    {
      "cell_type": "code",
      "source": [
        "from sklearn.metrics import mean_squared_error\n",
        "import math\n",
        "y_true = [np.argmax(val) for val in ytest]\n",
        "conf = []\n",
        "for i in range(len(ytest)):\n",
        "  conf.append(max(y_pred1[i]))\n",
        "RMSE = mean_squared_error([1]*len(conf), conf,squared = False)\n",
        "print(\"Root Mean Square Error:\\n\")\n",
        "print(RMSE)"
      ],
      "metadata": {
        "colab": {
          "base_uri": "https://localhost:8080/"
        },
        "id": "1TdgyD9UTlQK",
        "outputId": "561caec3-1709-40a5-92ee-9d2c98460833"
      },
      "execution_count": null,
      "outputs": [
        {
          "output_type": "stream",
          "name": "stdout",
          "text": [
            "Root Mean Square Error:\n",
            "\n",
            "0.5666108652214216\n"
          ]
        }
      ]
    },
    {
      "cell_type": "code",
      "source": [
        ""
      ],
      "metadata": {
        "id": "QXcPE05T-f7y"
      },
      "execution_count": null,
      "outputs": []
    }
  ]
}